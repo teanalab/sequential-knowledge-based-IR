{
 "cells": [
  {
   "cell_type": "code",
   "execution_count": 32,
   "metadata": {
    "collapsed": false
   },
   "outputs": [],
   "source": [
    "from __future__ import print_function\n",
    "import sys\n",
    "import json\n",
    "import os\n",
    "import subprocess\n",
    "import re\n",
    "from bs4 import BeautifulSoup\n",
    "import urllib2"
   ]
  },
  {
   "cell_type": "code",
   "execution_count": 4,
   "metadata": {
    "collapsed": false
   },
   "outputs": [],
   "source": [
    "projectDir = \"/home/fj9124/projects/ir/seq_kb_ir/\"\n",
    "alchemyapiDir = os.path.join(projectDir, \"alchemyapi\")\n",
    "annotateProg = os.path.join(alchemyapiDir, \"annotate.py\")"
   ]
  },
  {
   "cell_type": "code",
   "execution_count": 5,
   "metadata": {
    "collapsed": true
   },
   "outputs": [],
   "source": [
    "annotateResults = subprocess.check_output([annotateProg, \"\\\"Relevant documents will include those on historical exploration and drilling as well as history of regulatory bodies. Relevant are history of the oil industry in various states, even if drilling began in 1950 or later\\\"\"])"
   ]
  },
  {
   "cell_type": "code",
   "execution_count": 6,
   "metadata": {
    "collapsed": false
   },
   "outputs": [
    {
     "name": "stdout",
     "output_type": "stream",
     "text": [
      "annotateResults = text = \"Relevant documents will include those on historical exploration and drilling as well as history of regulatory bodies. Relevant are history of the oil industry in various states, even if drilling began in 1950 or later\"\n",
      "## Response Object ##\n",
      "{\n",
      "    \"status\": \"OK\", \n",
      "    \"totalTransactions\": \"4\", \n",
      "    \"language\": \"english\", \n",
      "    \"entities\": [\n",
      "        {\n",
      "            \"relevance\": \"0.920577\", \n",
      "            \"count\": \"1\", \n",
      "            \"type\": \"FieldTerminology\", \n",
      "            \"text\": \"oil industry\"\n",
      "        }\n",
      "    ], \n",
      "    \"taxonomy\": [\n",
      "        {\n",
      "            \"confident\": \"no\", \n",
      "            \"score\": \"0.358344\", \n",
      "            \"label\": \"/science/social science/history\"\n",
      "        }, \n",
      "        {\n",
      "            \"confident\": \"no\", \n",
      "            \"score\": \"0.322388\", \n",
      "            \"label\": \"/business and industrial/energy/oil\"\n",
      "        }, \n",
      "        {\n",
      "            \"confident\": \"no\", \n",
      "            \"score\": \"0.271726\", \n",
      "            \"label\": \"/business and industrial/energy/oil/oil company\"\n",
      "        }\n",
      "    ], \n",
      "    \"keywords\": [\n",
      "        {\n",
      "            \"relevance\": \"0.955799\", \n",
      "            \"text\": \"regulatory bodies\"\n",
      "        }, \n",
      "        {\n",
      "            \"relevance\": \"0.886057\", \n",
      "            \"text\": \"historical exploration\"\n",
      "        }, \n",
      "        {\n",
      "            \"relevance\": \"0.829942\", \n",
      "            \"text\": \"oil industry\"\n",
      "        }, \n",
      "        {\n",
      "            \"relevance\": \"0.82521\", \n",
      "            \"text\": \"various states\"\n",
      "        }, \n",
      "        {\n",
      "            \"relevance\": \"0.824169\", \n",
      "            \"text\": \"Relevant documents\"\n",
      "        }, \n",
      "        {\n",
      "            \"relevance\": \"0.695525\", \n",
      "            \"text\": \"drilling\"\n",
      "        }, \n",
      "        {\n",
      "            \"relevance\": \"0.482569\", \n",
      "            \"text\": \"history\"\n",
      "        }\n",
      "    ], \n",
      "    \"concepts\": [\n",
      "        {\n",
      "            \"relevance\": \"0.93556\", \n",
      "            \"text\": \"Petroleum\", \n",
      "            \"dbpedia\": \"http://dbpedia.org/resource/Petroleum\", \n",
      "            \"freebase\": \"http://rdf.freebase.com/ns/m.05r_j\"\n",
      "        }, \n",
      "        {\n",
      "            \"relevance\": \"0.69013\", \n",
      "            \"text\": \"Renaissance\", \n",
      "            \"opencyc\": \"http://sw.opencyc.org/concept/Mx4rwQCL0JwpEbGdrcN5Y29ycA\", \n",
      "            \"dbpedia\": \"http://dbpedia.org/resource/Renaissance\", \n",
      "            \"freebase\": \"http://rdf.freebase.com/ns/m.06cvx\"\n",
      "        }, \n",
      "        {\n",
      "            \"relevance\": \"0.6764\", \n",
      "            \"text\": \"History\", \n",
      "            \"opencyc\": \"http://sw.opencyc.org/concept/Mx4rvViJNJwpEbGdrcN5Y29ycA\", \n",
      "            \"dbpedia\": \"http://dbpedia.org/resource/History\", \n",
      "            \"freebase\": \"http://rdf.freebase.com/ns/m.03g3w\"\n",
      "        }, \n",
      "        {\n",
      "            \"relevance\": \"0.646\", \n",
      "            \"text\": \"Petroleum industry\", \n",
      "            \"opencyc\": \"http://sw.opencyc.org/concept/Mx4rwN31FpwpEbGdrcN5Y29ycA\", \n",
      "            \"dbpedia\": \"http://dbpedia.org/resource/Petroleum_industry\", \n",
      "            \"freebase\": \"http://rdf.freebase.com/ns/m.03xm3m\"\n",
      "        }\n",
      "    ], \n",
      "    \"usage\": \"By accessing AlchemyAPI or using information generated by AlchemyAPI, you are agreeing to be bound by the AlchemyAPI Terms of Use: http://www.alchemyapi.com/company/terms.html\"\n",
      "}\n",
      "\n",
      "## Keywords ##\n",
      "regulatory bodies  :  0.955799\n",
      "historical exploration  :  0.886057\n",
      "oil industry  :  0.829942\n",
      "various states  :  0.82521\n",
      "Relevant documents  :  0.824169\n",
      "drilling  :  0.695525\n",
      "history  :  0.482569\n",
      "\n",
      "## Concepts ##\n",
      "Petroleum  :  0.93556\n",
      "Renaissance  :  0.69013\n",
      "History  :  0.6764\n",
      "Petroleum industry  :  0.646\n",
      "\n",
      "## Entities ##\n",
      "FieldTerminology  :  oil industry ,  0.920577\n",
      " \n",
      "\n"
     ]
    }
   ],
   "source": [
    "print(\"annotateResults =\", annotateResults)"
   ]
  },
  {
   "cell_type": "code",
   "execution_count": 16,
   "metadata": {
    "collapsed": false
   },
   "outputs": [],
   "source": [
    "annotateResultsJson = re.split('## Response Object ##|## Keywords ##',annotateResults)[1].strip()"
   ]
  },
  {
   "cell_type": "code",
   "execution_count": 27,
   "metadata": {
    "collapsed": false
   },
   "outputs": [
    {
     "name": "stdout",
     "output_type": "stream",
     "text": [
      "[u'http://rdf.freebase.com/ns/m.05r_j', u'http://rdf.freebase.com/ns/m.06cvx', u'http://rdf.freebase.com/ns/m.03g3w', u'http://rdf.freebase.com/ns/m.03xm3m']\n",
      "['Petroleum', 'Renaissance', 'History', 'Petroleum industry']\n"
     ]
    }
   ],
   "source": [
    "annotateResultsJsonParsed = json.loads(annotateResultsJson)\n",
    "freebaseEntities = [ j[u'freebase'] for j in annotateResultsJsonParsed[\"concepts\"]]\n",
    "print (freebaseEntities)\n",
    "entityTexts = [ str(j['text']) for j in annotateResultsJsonParsed[\"concepts\"]]\n",
    "print (entityTexts)"
   ]
  },
  {
   "cell_type": "code",
   "execution_count": 65,
   "metadata": {
    "collapsed": false
   },
   "outputs": [
    {
     "name": "stdout",
     "output_type": "stream",
     "text": [
      "freebase url = http://rdf.freebase.com/ns/m.05r_j\n",
      "wikipediaEn = ['All petroleum vehicle', 'Petroholic', 'Petroleum fuel vehicle', 'Crude oil', 'Petropolitics', 'Fossil oil', 'History of Petroleum', 'Formation of petroleum', 'Raw oil', 'Petro diesel', 'Conventional vehicle', 'Varsol', 'Petroleum', 'Petrofuel', 'Oil producing countries', 'Petroleum maturation', 'Black gold oil', 'Petrofree', 'Petroleum fuel', 'All petroleum', 'Brend Blend', 'Pampetro', 'Black gold liquid', 'Petrostate', 'VARSOL', 'Petrolet', 'Raw petroleum', 'Petro state', 'Used Oil', 'Patrolium', 'Petroleum generation', 'Liquid petroleum', 'Fossil oil', 'Petroplitics', 'Petroleum accumulation', 'Conventional oil', 'Petrol oil', 'Petroleum car', 'Oil Enviromental Impact', 'Crude petroleum', 'Petroleum based fuel', 'Petroleum vehicle', 'Crude Oil', 'World oil consumption', 'Medium fuel oil', 'Petroleum fuels', 'Vehicle fuel', 'Pan petroliferous', 'Black gold Oil', 'Petrolium', 'Gas distribution']\n"
     ]
    },
    {
     "data": {
      "text/plain": [
       "'\\nkeyWikipediaObjectKeyEn = \"ns:type.object.key    ns:wikipedia.en.\"\\n\\nwikipediaObjectKeyEn = [re.sub(keyWikipediaObjectKeyEn, \\'\\', str(i)).strip() for i in freebaseContent if keyWikipediaObjectKeyEn in i]\\nwikipediaObjectKeyEn = [re.sub(\\'[^a-zA-Z]+\\', \\' \\', i) for i in wikipediaObjectKeyEn]\\nwikipediaObjectKeyEn = [re.sub( \\'\\\\s+\\', \\' \\', i ).strip() for i in wikipediaObjectKeyEn]\\nprint(\"wikipediaObjectKeyEn =\", wikipediaObjectKeyEn)\\n\\nprint(set(wikipediaObjectKeyEn) - set(wikipediaEn))\\n'"
      ]
     },
     "execution_count": 65,
     "metadata": {},
     "output_type": "execute_result"
    }
   ],
   "source": [
    "print (\"freebase url =\", freebaseEntities[0])\n",
    "html_doc = urllib2.urlopen(freebaseEntities[0])\n",
    "soup = BeautifulSoup(html_doc, \"lxml\")\n",
    "\n",
    "freebaseContent = soup.text.split('\\n')\n",
    "\n",
    "keyWikipediaEn = \"key:wikipedia.en \"\n",
    "\n",
    "wikipediaEn = [re.sub(keyWikipediaEn, '', str(i)).strip() for i in freebaseContent if keyWikipediaEn in i]\n",
    "wikipediaEn = [re.sub('[^a-zA-Z]+', ' ', i) for i in wikipediaEn]\n",
    "wikipediaEn = [re.sub( '\\s+', ' ', i ).strip() for i in wikipediaEn]\n",
    "print(\"wikipediaEn =\", wikipediaEn)\n",
    "\n",
    "\n",
    "#keyWikipediaObjectKeyEn = \"ns:type.object.key    ns:wikipedia.en.\"\n",
    "\n",
    "#wikipediaObjectKeyEn = [re.sub(keyWikipediaObjectKeyEn, '', str(i)).strip() for i in freebaseContent if keyWikipediaObjectKeyEn in i]\n",
    "#wikipediaObjectKeyEn = [re.sub('[^a-zA-Z]+', ' ', i) for i in wikipediaObjectKeyEn]\n",
    "#wikipediaObjectKeyEn = [re.sub( '\\s+', ' ', i ).strip() for i in wikipediaObjectKeyEn]\n",
    "#print(\"wikipediaObjectKeyEn =\", wikipediaObjectKeyEn)\n",
    "\n",
    "#print(set(wikipediaObjectKeyEn) - set(wikipediaEn))\n",
    "\n"
   ]
  },
  {
   "cell_type": "code",
   "execution_count": null,
   "metadata": {
    "collapsed": true
   },
   "outputs": [],
   "source": []
  }
 ],
 "metadata": {
  "kernelspec": {
   "display_name": "Python 2",
   "language": "python",
   "name": "python2"
  },
  "language_info": {
   "codemirror_mode": {
    "name": "ipython",
    "version": 2
   },
   "file_extension": ".py",
   "mimetype": "text/x-python",
   "name": "python",
   "nbconvert_exporter": "python",
   "pygments_lexer": "ipython2",
   "version": "2.7.10"
  }
 },
 "nbformat": 4,
 "nbformat_minor": 0
}
