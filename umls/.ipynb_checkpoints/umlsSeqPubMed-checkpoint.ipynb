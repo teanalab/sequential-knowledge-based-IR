{
 "cells": [
  {
   "cell_type": "code",
   "execution_count": 1,
   "metadata": {
    "collapsed": false
   },
   "outputs": [],
   "source": [
    "from __future__ import print_function\n",
    "import os\n",
    "import csv\n",
    "import collections\n",
    "import string\n",
    "from time import time\n",
    "import subprocess\n",
    "import io\n",
    "import re\n",
    "import urllib2\n",
    "from bs4 import BeautifulSoup\n",
    "from multiprocessing import Process, Lock, Pool"
   ]
  },
  {
   "cell_type": "code",
   "execution_count": 13,
   "metadata": {
    "collapsed": false
   },
   "outputs": [
    {
     "name": "stdout",
     "output_type": "stream",
     "text": [
      "mrrel = /scratch/saeid/umls/2015AA/2015AA/META/MRREL.RRF\n",
      "mrsty = /scratch/saeid/umls/2015AA/2015AA/META/MRSTY.RRF\n"
     ]
    }
   ],
   "source": [
    "umlsMetDir = \"/scratch/saeid/umls/2015AA/2015AA/META/\"\n",
    "mrrel = os.path.join(umlsMetDir, \"MRREL.RRF\")\n",
    "mrsty = os.path.join(umlsMetDir, \"MRSTY.RRF\")\n",
    "mrconso = os.path.join(umlsMetDir, \"MRCONSO.RRF\")\n",
    "indexDir = \"/scratch/index/indri_5_7/pmc_mod/\"\n",
    "projDir = \"/home/fj9124/projects/ir/seq_kb_ir/\"\n",
    "configsDir = os.path.join(projDir, \"configs\")\n",
    "cds14configsDir = os.path.join(configsDir, \"cds14\")\n",
    "cds14Indriconfigs = os.path.join(cds14configsDir, \"indriRunQuery.cfg\")\n",
    "print(\"mrrel =\", mrrel)\n",
    "print(\"mrsty =\", mrsty)"
   ]
  },
  {
   "cell_type": "code",
   "execution_count": null,
   "metadata": {
    "collapsed": false
   },
   "outputs": [],
   "source": [
    "def readRrfFile(rrfFile, indices):\n",
    "    print(\"RRF file =\", rrfFile)\n",
    "    i0 = indices[0]\n",
    "    i1 = indices[1]\n",
    "    print(\"indices =\", i0, i1)\n",
    "    t0 = time()\n",
    "    print(\"reading RRF file and store in a dict of lists\")\n",
    "    rrf = dict()\n",
    "    with open (rrfFile, 'r') as rrfFile:\n",
    "        reader = csv.reader(rrfFile, delimiter='|')\n",
    "        for row in reader:\n",
    "            print(row[1], row[2], row[4], row[6])\n",
    "            break\n",
    "            if rrfFile == mrconso:\n",
    "                if row[1] != \"ENG\" and row[2] != \"P\" and row[4] != \"PF\" and row[6] != \"Y\":\n",
    "                    \n",
    "                    row[i1] = re.sub(\"[\\(\\[].*?[\\)\\]]\", \"\", row[i1])\n",
    "                    print(row[i1])\n",
    "                    if row[i1].isalpha():\n",
    "                        row[i1] = row[i1].lower().strip()\n",
    "                        print(row[i1])\n",
    "                    else:\n",
    "                        continue\n",
    "                else:\n",
    "                    continue\n",
    "                    \n",
    "            #print (row)\n",
    "            if row[i0] in rrf:\n",
    "                rrf[row[i0]].add(row[i1])\n",
    "            else:\n",
    "                rrf[row[i0]] = set([row[i1]])\n",
    "    print(\"size of readed matrix =\", len(rrf))\n",
    "    print(\"done in %0.3f minutes.\" % ((time() - t0)/60))\n",
    "    return(rrf)"
   ]
  },
  {
   "cell_type": "code",
   "execution_count": 4,
   "metadata": {
    "collapsed": false
   },
   "outputs": [
    {
     "name": "stdout",
     "output_type": "stream",
     "text": [
      "RRF file = /scratch/saeid/umls/2015AA/2015AA/META/MRREL.RRF\n",
      "indices = 0 4\n",
      "reading RRF file and store in a dict of lists\n",
      "size of readed matrix = 2255894\n",
      "done in 1.469 minutes.\n"
     ]
    }
   ],
   "source": [
    "relConcepts = readRrfFile(mrrel, [0, 4])"
   ]
  },
  {
   "cell_type": "code",
   "execution_count": 5,
   "metadata": {
    "collapsed": false
   },
   "outputs": [
    {
     "name": "stdout",
     "output_type": "stream",
     "text": [
      "reading MRREL.RRF file and store in a dict of list with counter on the number of relationship links\n",
      "number of concepts with relationship links to the others = 2255894\n",
      "done in 0.574 minutes.\n"
     ]
    }
   ],
   "source": [
    "t0 = time()\n",
    "print(\"reading MRREL.RRF file and store in a dict of list with counter on the number of relationship links\")\n",
    "for c1, c2 in relConcepts.iteritems():\n",
    "    relConcepts[c1] = collections.Counter( c2 )\n",
    "print(\"number of concepts with relationship links to the others =\", len(relConcepts))\n",
    "print(\"done in %0.3f minutes.\" % ((time() - t0)/60))"
   ]
  },
  {
   "cell_type": "code",
   "execution_count": 6,
   "metadata": {
    "collapsed": false
   },
   "outputs": [
    {
     "name": "stdout",
     "output_type": "stream",
     "text": [
      "RRF file = /scratch/saeid/umls/2015AA/2015AA/META/MRSTY.RRF\n",
      "indices = 0 1\n",
      "reading RRF file and store in a dict of lists\n",
      "size of readed matrix = 2296350\n",
      "done in 0.669 minutes.\n"
     ]
    }
   ],
   "source": [
    "styConcepts = readRrfFile(mrsty, [0, 1])"
   ]
  },
  {
   "cell_type": "code",
   "execution_count": 15,
   "metadata": {
    "collapsed": false
   },
   "outputs": [
    {
     "name": "stdout",
     "output_type": "stream",
     "text": [
      "RRF file = /scratch/saeid/umls/2015AA/2015AA/META/MRCONSO.RRF\n",
      "indices = 0 14\n",
      "reading RRF file and store in a dict of lists\n"
     ]
    },
    {
     "ename": "KeyboardInterrupt",
     "evalue": "",
     "output_type": "error",
     "traceback": [
      "\u001b[1;31m---------------------------------------------------------------------------\u001b[0m",
      "\u001b[1;31mKeyboardInterrupt\u001b[0m                         Traceback (most recent call last)",
      "\u001b[1;32m<ipython-input-15-e7b1bc5a1b56>\u001b[0m in \u001b[0;36m<module>\u001b[1;34m()\u001b[0m\n\u001b[1;32m----> 1\u001b[1;33m \u001b[0mconceptNames\u001b[0m \u001b[1;33m=\u001b[0m \u001b[0mreadRrfFile\u001b[0m\u001b[1;33m(\u001b[0m\u001b[0mmrconso\u001b[0m\u001b[1;33m,\u001b[0m \u001b[1;33m[\u001b[0m\u001b[1;36m0\u001b[0m\u001b[1;33m,\u001b[0m \u001b[1;36m14\u001b[0m\u001b[1;33m]\u001b[0m\u001b[1;33m)\u001b[0m\u001b[1;33m\u001b[0m\u001b[0m\n\u001b[0m",
      "\u001b[1;32m<ipython-input-11-bd5f9146677e>\u001b[0m in \u001b[0;36mreadRrfFile\u001b[1;34m(rrfFile, indices)\u001b[0m\n\u001b[0;32m     10\u001b[0m         \u001b[0mreader\u001b[0m \u001b[1;33m=\u001b[0m \u001b[0mcsv\u001b[0m\u001b[1;33m.\u001b[0m\u001b[0mreader\u001b[0m\u001b[1;33m(\u001b[0m\u001b[0mrrfFile\u001b[0m\u001b[1;33m,\u001b[0m \u001b[0mdelimiter\u001b[0m\u001b[1;33m=\u001b[0m\u001b[1;34m'|'\u001b[0m\u001b[1;33m)\u001b[0m\u001b[1;33m\u001b[0m\u001b[0m\n\u001b[0;32m     11\u001b[0m         \u001b[1;32mfor\u001b[0m \u001b[0mrow\u001b[0m \u001b[1;32min\u001b[0m \u001b[0mreader\u001b[0m\u001b[1;33m:\u001b[0m\u001b[1;33m\u001b[0m\u001b[0m\n\u001b[1;32m---> 12\u001b[1;33m             \u001b[1;32mif\u001b[0m \u001b[0mrrfFile\u001b[0m \u001b[1;33m==\u001b[0m \u001b[0mmrconso\u001b[0m\u001b[1;33m:\u001b[0m\u001b[1;33m\u001b[0m\u001b[0m\n\u001b[0m\u001b[0;32m     13\u001b[0m                 \u001b[1;32mprint\u001b[0m\u001b[1;33m(\u001b[0m\u001b[0mrow\u001b[0m\u001b[1;33m[\u001b[0m\u001b[1;36m1\u001b[0m\u001b[1;33m]\u001b[0m\u001b[1;33m,\u001b[0m \u001b[0mrow\u001b[0m\u001b[1;33m[\u001b[0m\u001b[1;36m2\u001b[0m\u001b[1;33m]\u001b[0m\u001b[1;33m,\u001b[0m \u001b[0mrow\u001b[0m\u001b[1;33m[\u001b[0m\u001b[1;36m4\u001b[0m\u001b[1;33m]\u001b[0m\u001b[1;33m,\u001b[0m \u001b[0mrow\u001b[0m\u001b[1;33m[\u001b[0m\u001b[1;36m6\u001b[0m\u001b[1;33m]\u001b[0m\u001b[1;33m)\u001b[0m\u001b[1;33m\u001b[0m\u001b[0m\n\u001b[0;32m     14\u001b[0m                 \u001b[1;32mif\u001b[0m \u001b[0mrow\u001b[0m\u001b[1;33m[\u001b[0m\u001b[1;36m1\u001b[0m\u001b[1;33m]\u001b[0m \u001b[1;33m!=\u001b[0m \u001b[1;34m\"ENG\"\u001b[0m \u001b[1;32mand\u001b[0m \u001b[0mrow\u001b[0m\u001b[1;33m[\u001b[0m\u001b[1;36m2\u001b[0m\u001b[1;33m]\u001b[0m \u001b[1;33m!=\u001b[0m \u001b[1;34m\"P\"\u001b[0m \u001b[1;32mand\u001b[0m \u001b[0mrow\u001b[0m\u001b[1;33m[\u001b[0m\u001b[1;36m4\u001b[0m\u001b[1;33m]\u001b[0m \u001b[1;33m!=\u001b[0m \u001b[1;34m\"PF\"\u001b[0m \u001b[1;32mand\u001b[0m \u001b[0mrow\u001b[0m\u001b[1;33m[\u001b[0m\u001b[1;36m6\u001b[0m\u001b[1;33m]\u001b[0m \u001b[1;33m!=\u001b[0m \u001b[1;34m\"Y\"\u001b[0m\u001b[1;33m:\u001b[0m\u001b[1;33m\u001b[0m\u001b[0m\n",
      "\u001b[1;31mKeyboardInterrupt\u001b[0m: "
     ]
    }
   ],
   "source": [
    "conceptNames = readRrfFile(mrconso, [0, 14])"
   ]
  },
  {
   "cell_type": "code",
   "execution_count": 8,
   "metadata": {
    "collapsed": false
   },
   "outputs": [
    {
     "name": "stdout",
     "output_type": "stream",
     "text": [
      "relevant concepts = C3098694 Counter({'C2270445': 1})\n",
      "relevant concepts = C1912735 Counter({'C0752036': 1})\n",
      "relevant concepts = C3812400 Counter({'C3669017': 1})\n",
      "relevant concepts = C3608447 Counter({'C3608446': 1})\n",
      "relevant concepts = C1881803 Counter({'C0002763': 1, 'C1880653': 1})\n",
      "relevant concepts = C1881802 Counter({'C0003211': 1, 'C1880653': 1})\n",
      "relevant concepts = C1881801 Counter({'C1518174': 1, 'C1334740': 1, 'C0014597': 1, 'C1513959': 1, 'C0334227': 1, 'C1707292': 1, 'C1514098': 1, 'C1510779': 1, 'C1513973': 1, 'C1513183': 1, 'C0014609': 1, 'C1881876': 1, 'C0206696': 1, 'C0334037': 1, 'C0022790': 1, 'C0597032': 1, 'C1707933': 1, 'C1518245': 1, 'C1518246': 1, 'C1514101': 1, 'C1522040': 1, 'C0334277': 1})\n",
      "relevant concepts = C1881800 Counter({'C1332746': 1, 'C1708995': 1, 'C0815043': 1, 'C1333346': 1, 'C0007082': 1, 'C1335977': 1, 'C1513177': 1})\n",
      "relevant concepts = C1881807 Counter({'C0003232': 1, 'C1880653': 1})\n",
      "relevant concepts = C1881806 Counter({'C1516000': 1, 'C1880653': 1})\n",
      "relevant concepts = C1881805 Counter({'C0037766': 1, 'C1880653': 1})\n",
      "relevant concepts = C3600020 Counter({'C1021054': 1})\n",
      "-----------------------------------------------\n",
      "semantic types of concepts = C3098694 set(['T204'])\n",
      "semantic types of concepts = C1912735 set(['T007'])\n",
      "semantic types of concepts = C3812400 set(['T033'])\n",
      "semantic types of concepts = C3608447 set(['T002'])\n",
      "semantic types of concepts = C1881803 set(['T121'])\n",
      "semantic types of concepts = C1881802 set(['T109', 'T121'])\n",
      "semantic types of concepts = C1881801 set(['T191'])\n",
      "semantic types of concepts = C1881800 set(['T116'])\n",
      "semantic types of concepts = C1881807 set(['T109', 'T195'])\n",
      "semantic types of concepts = C1881806 set(['T109', 'T121'])\n",
      "semantic types of concepts = C1881805 set(['T109', 'T121'])\n",
      "semantic types of concepts = C3600020 set(['T204'])\n",
      "-----------------------------------------------\n",
      "concepts and their names = C3098694 set(['Boletina sahlbergi', 'Boletina sahlbergi Lundstrom, 1906'])\n",
      "concepts and their names = C1912735 set(['Halomonas sp. G7'])\n",
      "concepts and their names = C3812400 set(['Weights - exercise activity', 'Weights'])\n",
      "concepts and their names = C3608447 set(['Eremiolirion amboense (Schinz) J.C.Manning & Mannh.', 'Eremiolirion amboense'])\n",
      "concepts and their names = C1881803 set(['Metazide', 'METAZIDE'])\n",
      "concepts and their names = C1881802 set(['Metazamide', 'METAZAMIDE'])\n",
      "concepts and their names = C1881801 set(['Metastatic signet ring cell carcinoma', 'Metastatic Signet Ring Cell Carcinoma'])\n",
      "concepts and their names = C1881800 set(['Metastasis Protein'])\n",
      "concepts and their names = C1881807 set(['Metioxate', 'METIOXATE', '6-Ethyl-2,3,6,9-tetrahydro-3-methyl-2,9-dioxothiazolo[5,4-f]quinoline-8-carboxylic acid 2-(4-methylpiperidino)ethyl ester'])\n",
      "concepts and their names = C1881806 set(['METIBRIDE', 'Metibride'])\n",
      "concepts and their names = C1881805 set(['METHYLCHROMONE', 'Methylchromone'])\n",
      "concepts and their names = C3600020 set(['Opius ocreatus Papp, 1979', 'Opius ocreatus', 'Opiognathus ocreatus'])\n"
     ]
    }
   ],
   "source": [
    "for i, (r, c) in enumerate(relConcepts.iteritems()):\n",
    "    print (\"relevant concepts =\", r, c)\n",
    "    if i > 10:\n",
    "        break\n",
    "print(\"-----------------------------------------------\")\n",
    "for i, (s, c1) in enumerate(styConcepts.iteritems()):\n",
    "    print (\"semantic types of concepts =\", s, c1)\n",
    "    if i > 10:\n",
    "        break\n",
    "print(\"-----------------------------------------------\")\n",
    "for i, (s, c1) in enumerate(conceptNames.iteritems()):\n",
    "    print (\"concepts and their names =\", s, c1)\n",
    "    if i > 10:\n",
    "        break"
   ]
  },
  {
   "cell_type": "code",
   "execution_count": 108,
   "metadata": {
    "collapsed": false
   },
   "outputs": [
    {
     "name": "stdout",
     "output_type": "stream",
     "text": [
      "{'popg': 'T098', 'inpo': 'T037', 'elii': 'T196', 'idcn': 'T078', 'neop': 'T191', 'drdd': 'T203', 'inpr': 'T170', 'resd': 'T075', 'evnt': 'T051', 'phsu': 'T121', 'blor': 'T029', 'hops': 'T131', 'menp': 'T041', 'phsf': 'T039', 'humn': 'T016', 'ftcn': 'T169', 'anim': 'T008', 'food': 'T168', 'grpa': 'T102', 'rept': 'T014', 'prog': 'T097', 'hcpp': 'T068', 'vtbt': 'T010', 'lbtr': 'T034', 'edac': 'T065', 'ocdi': 'T090', 'crbs': 'T088', 'chvf': 'T120', 'anab': 'T190', 'tisu': 'T024', 'inbe': 'T055', 'tmco': 'T079', 'clas': 'T185', 'acab': 'T020', 'dsyn': 'T047', 'fish': 'T013', 'horm': 'T125', 'bact': 'T007', 'eehu': 'T069', 'grup': 'T096', 'bacs': 'T123', 'enty': 'T071', 'chem': 'T103', 'vita': 'T127', 'resa': 'T062', 'medd': 'T074', 'chvs': 'T104', 'mcha': 'T066', 'pros': 'T094', 'cell': 'T025', 'fndg': 'T033', 'sbst': 'T167', 'geoa': 'T083', 'celf': 'T043', 'bird': 'T012', 'diap': 'T060', 'celc': 'T026', 'hcro': 'T093', 'clnd': 'T200', 'orch': 'T109', 'clna': 'T201', 'bodm': 'T122', 'patf': 'T046', 'carb': 'T118', 'comd': 'T049', 'bpoc': 'T023', 'mbrt': 'T063', 'moft': 'T044', 'emst': 'T018', 'aggp': 'T100', 'genf': 'T045', 'dora': 'T056', 'shro': 'T095', 'bmod': 'T091', 'sosy': 'T184', 'enzy': 'T126', 'qnco': 'T081', 'emod': 'T050', 'imft': 'T129', 'bsoj': 'T030', 'antb': 'T195', 'bdsy': 'T022', 'nnon': 'T114', 'biof': 'T038', 'socb': 'T054', 'ocac': 'T057', 'bdsu': 'T031', 'mamm': 'T015', 'rcpt': 'T192', 'nsba': 'T124', 'ffas': 'T021', 'cgab': 'T019', 'lipd': 'T119', 'gora': 'T064', 'mnob': 'T073', 'nusq': 'T086', 'orgm': 'T001', 'orga': 'T032', 'orgf': 'T040', 'lbpr': 'T059', 'phob': 'T072', 'orgt': 'T092', 'gngm': 'T028', 'virs': 'T005', 'mobd': 'T048', 'aapp': 'T116', 'opco': 'T115', 'irda': 'T130', 'famg': 'T099', 'acty': 'T052', 'bhvr': 'T053', 'inch': 'T197', 'rnlw': 'T089', 'cnce': 'T077', 'plnt': 'T002', 'euka': 'T204', 'anst': 'T017', 'topp': 'T061', 'eico': 'T111', 'spco': 'T082', 'mosq': 'T085', 'amas': 'T087', 'ortf': 'T042', 'arch': 'T194', 'lang': 'T171', 'amph': 'T011', 'podg': 'T101', 'fngs': 'T004', 'qlco': 'T080', 'npop': 'T070', 'hlca': 'T058', 'phpr': 'T067', 'strd': 'T110'}\n",
      "{'Congenital Abnormality': 'T019', 'Anatomical Abnormality': 'T190', 'Eukaryote': 'T204', 'Chemical': 'T103', 'Clinical Attribute': 'T201', 'Neoplastic Process': 'T191', 'Manufactured Object': 'T073', 'Archaeon': 'T194', 'Bird': 'T012', 'Mental Process': 'T041', 'Embryonic Structure': 'T018', 'Indicator, Reagent, or Diagnostic Aid': 'T130', 'Organism': 'T001', 'Organophosphorus Compound': 'T115', 'Biologic Function': 'T038', 'Body Part, Organ, or Organ Component': 'T023', 'Gene or Genome': 'T028', 'Age Group': 'T100', 'Inorganic Chemical': 'T197', 'Natural Phenomenon or Process': 'T070', 'Amino Acid Sequence': 'T087', 'Body System': 'T022', 'Organization': 'T092', 'Individual Behavior': 'T055', 'Biomedical Occupation or Discipline': 'T091', 'Cell Component': 'T026', 'Pharmacologic Substance': 'T121', 'Research Activity': 'T062', 'Therapeutic or Preventive Procedure': 'T061', 'Carbohydrate Sequence': 'T088', 'Entity': 'T071', 'Molecular Sequence': 'T085', 'Event': 'T051', 'Sign or Symptom': 'T184', 'Professional or Occupational Group': 'T097', 'Family Group': 'T099', 'Steroid': 'T110', 'Human-caused Phenomenon or Process': 'T068', 'Pathologic Function': 'T046', 'Clinical Drug': 'T200', 'Physical Object': 'T072', 'Drug Delivery Device': 'T203', 'Patient or Disabled Group': 'T101', 'Medical Device': 'T074', 'Disease or Syndrome': 'T047', 'Vitamin': 'T127', 'Phenomenon or Process': 'T067', 'Cell or Molecular Dysfunction': 'T049', 'Virus': 'T005', 'Nucleic Acid, Nucleoside, or Nucleotide': 'T114', 'Physiologic Function': 'T039', 'Body Location or Region': 'T029', 'Occupation or Discipline': 'T090', 'Body Substance': 'T031', 'Substance': 'T167', 'Eicosanoid': 'T111', 'Anatomical Structure': 'T017', 'Amphibian': 'T011', 'Educational Activity': 'T065', 'Health Care Related Organization': 'T093', 'Acquired Abnormality': 'T020', 'Fish': 'T013', 'Genetic Function': 'T045', 'Social Behavior': 'T054', 'Geographic Area': 'T083', 'Carbohydrate': 'T118', 'Fully Formed Anatomical Structure': 'T021', 'Human': 'T016', 'Molecular Biology Research Technique': 'T063', 'Amino Acid, Peptide, or Protein': 'T116', 'Group': 'T096', 'Behavior': 'T053', 'Hazardous or Poisonous Substance': 'T131', 'Cell': 'T025', 'Health Care Activity': 'T058', 'Animal': 'T008', 'Molecular Function': 'T044', 'Hormone': 'T125', 'Element, Ion, or Isotope': 'T196', 'Biomedical or Dental Material': 'T122', 'Quantitative Concept': 'T081', 'Fungus': 'T004', 'Qualitative Concept': 'T080', 'Functional Concept': 'T169', 'Language': 'T171', 'Injury or Poisoning': 'T037', 'Organ or Tissue Function': 'T042', 'Organism Function': 'T040', 'Experimental Model of Disease': 'T050', 'Environmental Effect of Humans': 'T069', 'Chemical Viewed Functionally': 'T120', 'Classification': 'T185', 'Receptor': 'T192', 'Neuroreactive Substance or Biogenic Amine': 'T124', 'Idea or Concept': 'T078', 'Bacterium': 'T007', 'Cell Function': 'T043', 'Machine Activity': 'T066', 'Vertebrate': 'T010', 'Finding': 'T033', 'Enzyme': 'T126', 'Research Device': 'T075', 'Spatial Concept': 'T082', 'Plant': 'T002', 'Professional Society': 'T094', 'Lipid': 'T119', 'Food': 'T168', 'Daily or Recreational Activity': 'T056', 'Biologically Active Substance': 'T123', 'Self-help or Relief Organization': 'T095', 'Occupational Activity': 'T057', 'Organic Chemical': 'T109', 'Group Attribute': 'T102', 'Laboratory or Test Result': 'T034', 'Laboratory Procedure': 'T059', 'Body Space or Junction': 'T030', 'Mental or Behavioral Dysfunction': 'T048', 'Chemical Viewed Structurally': 'T104', 'Nucleotide Sequence': 'T086', 'Intellectual Product': 'T170', 'Diagnostic Procedure': 'T060', 'Activity': 'T052', 'Mammal': 'T015', 'Immunologic Factor': 'T129', 'Regulation or Law': 'T089', 'Reptile': 'T014', 'Antibiotic': 'T195', 'Temporal Concept': 'T079', 'Population Group': 'T098', 'Organism Attribute': 'T032', 'Tissue': 'T024', 'Governmental or Regulatory Activity': 'T064', 'Conceptual Entity': 'T077'}\n"
     ]
    }
   ],
   "source": [
    "response = urllib2.urlopen('https://metamap.nlm.nih.gov/Docs/SemanticTypes_2013AA.txt')\n",
    "html = response.read()\n",
    "f = io.StringIO(unicode(html))\n",
    "reader = csv.reader(f, delimiter='|', skipinitialspace=True,)\n",
    "sty_l = list(reader)\n",
    "#print(sty_l)\n",
    "sty_d_abbr = {i[0]:i[1] for i in sty_l}\n",
    "sty_d_str = {i[2]:i[1] for i in sty_l}\n",
    "print(sty_d_abbr)\n",
    "print(sty_d_str)"
   ]
  },
  {
   "cell_type": "code",
   "execution_count": 21,
   "metadata": {
    "collapsed": false
   },
   "outputs": [
    {
     "name": "stdout",
     "output_type": "stream",
     "text": [
      "{'24': u' 33-year-old male presents with severe abdominal pain one week after a bike accident in which he sustained abdominal trauma. He is hypotensive and tachycardic, and imaging reveals a ruptured spleen and intraperitoneal hemorrhage.', '25': u'8-year-old boy with decreased level of consciousness 30 minutes after falling from his bike and hitting his head. He was not wearing a helmet. In the ER he was bradycardic and hypertensive, and the neurosurgeon strongly advised immediate treatment.', '26': u\"Group traveling to the Amazon rainforest, including 3 pregnant women. All members' immunizations are up-to-date but they require malaria prophylaxis.\", '27': u'21-year-old male with dozens of small polyps found on colonoscopy. Family history significant for both older siblings having total colectomies after colonoscopy revealed hundreds of adenomas.', '20': u'32-year-old unbelted driver status post car accident. Has multiple extremity fractures and severe abdominal pain with rebound and guarding.', '21': u'21-year-old female with progressive arthralgias, fatigue, and butterfly-shaped facial rash. Labs are significant for positive ANA and anti-double-stranded DNA, as well as proteinuria and RBC casts.', '22': u'15-year-old girl with right lower quadrant abdominal pain, decreased appetite, and enlarged appendix on abdominal ultrasound.', '23': u'63-year-old heavy smoker with productive cough, shortness of breath, tachypnea, and oxygen requirement. Chest x-ray shows hyperinflation with no consolidation.', '28': u'31-year-old female with amenorrhea, milky nipple discharge, negative urine pregnancy test, and elevated prolactin level.', '29': u'51-year-old smoker with hypertension and diabetes, in menopause, needs recommendations for preventing osteoporosis.', '1': u'58-year-old woman with hypertension and obesity presents with exercise-related episodic chest pain radiating to the back.', '3': u' 58-year-old female non-smoker with left lung mass on x-ray. Head CT shows a solitary right frontal lobe mass.', '2': u'8-year-old boy with 2 days of loose stools, fever, and cough after returning from a trip to Colorado. Chest x-ray shows bilateral lung infiltrates.', '5': u'56-year-old woman presents with shortness of breath 3 weeks after surgical mastectomy. Physical exam is significant for right calf tenderness and decreased breath sounds at the right base. Her D-dimer level is elevated.', '4': u'2-year-old boy with fever and irritability for 5 days. Physical exam findings include conjunctivitis, strawberry tongue, and desquamation of the fingers and toes. Lab results include low albumin, elevated white blood cell count and C-reactive protein, and urine leukocytes. Echo shows moderate dilation of the coronary arteries.', '7': u'26-year-old obese woman with bipolar disorder, on zolpidem and lithium, with recent difficulty sleeping, agitation, suicidal ideation, and irritability.', '6': u'64-year-old woman with uncontrolled diabetes, now with an oozing, painful skin lesion on her left lower leg.', '9': u'43-year-old woman with soft, flesh-colored, pedunculated lesions on her neck.', '8': u'62-year-old man with progressive memory loss and involuntary leg movements. Brain MRI reveals cortical atrophy, and cortical biopsy shows vacuolar gray matter changes with reactive astrocytosis.', '11': u'40-year-old woman with severe right arm pain and hypotension. She has no history of trauma and right arm exam reveals no significant findings.', '10': u'67-year-old woman status post cardiac catheterization via right femoral artery, now with a cool, pulseless right foot and right femoral bruit.', '13': u'30-year-old woman who is 3 weeks post-partum, presents with shortness of breath, tachypnea, and hypoxia.', '12': u'25-year-old woman with fatigue, hair loss, weight gain, and cold intolerance for 6 months.', '15': u'36-year-old woman with amenorrhea, abdominal tenderness, enlarged uterus, and cervical dilation. Urine pregnancy test is negative. Ultrasound reveals an enlarged uterus with multiple cystic areas, which could be consistent with vesicular mole and fibroid degeneration.', '14': u'85-year-old man who was in a car accident 3 weeks ago, now with 3 days of progressively decreasing level of consciousness and impaired ability to perform activities of daily living.', '17': u'48-year-old man with common variable immunodeficiency presents with abdominal pain and fever. Ultrasound reveals hepatomegaly and free intraperitoneal fluid. A ruptured liver abscess is found and drained during exploratory laparotomy.', '16': u'28-year-old female with neck pain and left arm numbness 3 weeks after working with stray animals. Physical exam initially remarkable for slight left arm tremor and spasticity. Three days later she presented with significant arm spasticity, diaphoresis, agitation, difficulty swallowing, and hydrophobia.', '19': u'52-year-old man with history of smoking and heavy drinking, now with progressive dysphagia and 25-pound weight loss.', '18': u'6-month-old male with decreased urine output and edema several hours after surgery. He is hypertensive and tachycardic, has a high BUN and creatinine, and urine microscopy reveals red blood cells and granular casts.', '30': u'72-year-old man with calf pain while walking uphill. History of ischemic heart disease and worsening hypertension despite medication compliance. On physical exam he has a right carotid bruit and his lower extremities are cool, with diminished dorsalis pedis pulses.'}\n"
     ]
    }
   ],
   "source": [
    "response = urllib2.urlopen('http://trec-cds.appspot.com/topics2014.xml')\n",
    "html = response.read()\n",
    "#print(html)\n",
    "soup = BeautifulSoup(html, \"lxml\")\n",
    "origQueries = {fat.attrs['number']: fat.find('summary').next for fat in soup.findAll('topic')}\n",
    "print((origQueries))"
   ]
  },
  {
   "cell_type": "code",
   "execution_count": 133,
   "metadata": {
    "collapsed": false
   },
   "outputs": [],
   "source": [
    "def text2umlsConcepts(origQueries_l):\n",
    "    #return(type(origQuery))\n",
    "    origQuery = origQueries_l[1]\n",
    "    out = subprocess.check_output([\"/home/fj9124/thirdPartyProgs/public_mm/bin/testapi.sh\", \"-AIy+\", \"-V USAbase\", str(origQuery)])\n",
    "    #print((out))\n",
    "    f = io.StringIO(unicode(out))\n",
    "    reader = csv.reader(f, delimiter=':', skipinitialspace=True,)\n",
    "    #reader1 = reader\n",
    "    extractedConcepts = [row[1] for row in reader if row[0] in set(['Concept Name', 'Concept Id', 'Semantic Types'])]\n",
    "    #print(len(extractedConcepts))\n",
    "    extractedConcepts1 = set([(extractedConcepts[3*i], extractedConcepts[3*i+1].strip().lower(), extractedConcepts[3*i+2].strip(']').strip('[')) for i in range(0, len(extractedConcepts)/3)])\n",
    "    return([origQueries_l[0], extractedConcepts1])\n",
    "    "
   ]
  },
  {
   "cell_type": "code",
   "execution_count": 134,
   "metadata": {
    "collapsed": false
   },
   "outputs": [
    {
     "name": "stdout",
     "output_type": "stream",
     "text": [
      "getting original concepts\n",
      "[['24', set([('C0443318', 'sustained', 'ftcn'), ('C0439508', '/year', 'tmco'), ('C0205082', 'severe', 'qlco'), ('C0278140', 'severe pain', 'sosy'), ('C0038000', 'ruptured spleen', 'inpo'), ('C0332174', '/week', 'tmco'), ('C0848377', 'abdominal trauma', 'inpo'), ('C0011923', 'imaging', 'diap'), ('C0857353', 'hypotensive', 'patf'), ('C0687676', 'after', 'tmco'), ('C0701802', 'bike accident', 'inpo'), ('C0150312', 'present', 'qnco'), ('C0000737', 'abdominal pain', 'sosy'), ('C0039231', 'tachycardia', 'fndg'), ('C0443289', 'reveal', 'qlco'), ('C0019065', 'intraperitoneal hemorrhage', 'patf'), ('C0000726', 'abdominal', 'blor'), ('C0205447', 'one', 'qnco'), ('C0580836', 'old', 'tmco'), ('C1706180', 'male', 'qlco')])], ['25', set([('C0019602', 'his', 'aapp, bacs, phsu'), ('C1821572', 'decreased level of consciousness', 'fndg'), ('C0018884', 'helmet', 'mnob'), ('C0087111', 'treatment', 'topp'), ('C0018670', 'head', 'blor'), ('C0205253', 'immediate', 'tmco'), ('C0439508', '/year', 'tmco'), ('C0687676', 'after', 'tmco'), ('C0005375', 'bike', 'mnob'), ('C0237427', 'neurosurgeon', 'prog'), ('C0456693', '/30 minutes', 'tmco'), ('C0332159', 'hitting', 'ftcn'), ('C0857121', 'hypertensive', 'fndg'), ('C0085639', 'falling', 'fndg'), ('C0870221', 'boy', 'aggp'), ('C0428977', 'bradycardia', 'patf'), ('C1518422', 'not', 'ftcn'), ('C0580836', 'old', 'tmco')])], ['26', set([('C0020971', 'immunizations', 'topp'), ('C0040802', 'traveling', 'dora'), ('C0199244', 'malaria prophylaxis', 'topp'), ('C0325969', 'amazon, nos', 'bird'), ('C0011008', 'date', 'tmco'), ('C0439086', '<3', 'qnco'), ('C1705429', 'group', 'popg'), ('C0680022', 'members', 'popg'), ('C0332257', 'including', 'ftcn'), ('C0033011', 'pregnant women', 'popg')])], ['27', set([('C0001675', '21 old year', 'aggp'), ('C0009274', 'colectomies', 'topp'), ('C0150312', 'found', 'qnco'), ('C1706180', 'male', 'qlco'), ('C0032584', 'polyps', 'anab'), ('C0443289', 'revealed', 'qlco'), ('C0700321', 'small', 'qnco'), ('C0009556', 'total colonoscopy', 'diap'), ('C0001430', 'adenomas', 'neop'), ('C0241889', 'family history', 'fndg'), ('C1548837', 'colonoscopy', 'hlca'), ('C0337511', 'older sibling', 'famg'), ('C0750502', 'significant', 'idcn')])], ['20', set([('C0684312', 'driver', 'popg'), ('C1579887', 'car accident', 'inpo'), ('C0000924', 'accident, nos', 'inpo'), ('C0205082', 'severe', 'qlco'), ('C0403130', 'car driver', 'prog'), ('C0016655', 'multiple fractures', 'inpo'), ('C0580836', 'old', 'tmco'), ('C0439508', '/year', 'tmco'), ('C0231290', 'status post', 'tmco'), ('C0427198', 'guarding', 'fndg'), ('C0518447', 'extremity fractures', 'fndg'), ('C0015385', 'extremity', 'bpoc'), ('C0234246', 'rebound abdominal pain', 'sosy'), ('C0439064', 'multiple', 'qnco')])], ['21', set([('C0001675', '21 old year', 'aggp'), ('C0277942', 'butterfly rash', 'fndg'), ('C0151480', 'positive ana', 'lbtr'), ('C0179686', 'cast', 'medd'), ('C0086287', 'female', 'popg'), ('C0332479', 'shaped', 'spco'), ('C0003862', 'arthralgias', 'sosy'), ('C2698136', 'anti-double stranded dna', 'lbpr'), ('C0239521', 'facial rash', 'fndg'), ('C0205329', 'progressive', 'ftcn'), ('C0006496', 'butterfly', 'euka'), ('C0014792', 'rbc', 'cell'), ('C0015672', 'fatigue', 'sosy'), ('C0587081', 'labs', 'fndg'), ('C0033687', 'proteinuria', 'fndg'), ('C0015450', 'facial', 'blor'), ('C0750502', 'significant', 'idcn')])], ['22', set([('C0694551', 'abdominal pain, right lower quadrant', 'sosy'), ('C2348813', 'abdominal ultrasound', 'diap'), ('C0232462', 'decreased appetite', 'sosy'), ('C0439508', '/year', 'tmco'), ('C0442800', 'enlarged', 'qlco'), ('C1269000', 'appendix', 'bpoc'), ('C0870604', 'girl', 'aggp'), ('C0580836', 'old', 'tmco')])], ['23', set([('C0439539', 'heavy', 'qlco'), ('C0439508', '/year', 'tmco'), ('C0239134', 'productive cough', 'sosy'), ('C0337664', 'smoker', 'fndg'), ('C0020449', 'hyperinflation', 'anab'), ('C0030054', 'oxygen', 'elii, phsu'), ('C1114557', 'chest x-ray', 'clna'), ('C0231835', 'tachypnea', 'sosy'), ('C1514873', 'requirement', 'ftcn'), ('C2707305', 'shortness of breath', 'clna'), ('C0702116', 'consolidation', 'qlco'), ('C0580836', 'old', 'tmco'), ('C1547282', 'show', 'inpr')])], ['28', set([('C0205160', 'negative', 'qlco'), ('C0747979', 'elevated prolactin level', 'fndg'), ('C0042036', 'urine', 'bdsu'), ('C0002453', 'amenorrhea', 'dsyn'), ('C0439508', '/year', 'tmco'), ('C0430056', 'urine pregnancy test', 'lbpr'), ('C0567523', 'milky nipple discharge', 'sosy'), ('C0086287', 'female', 'popg'), ('C0427780', 'negative pregnancy test', 'lbtr'), ('C0580836', 'old', 'tmco'), ('C0450355', '31', 'inpr')])], ['29', set([('C0567312', 'menopause', 'fndg'), ('C0309872', 'prevent', 'phsu'), ('C0020538', 'hypertension', 'dsyn'), ('C0337664', 'smoker', 'fndg'), ('C0027552', 'need', 'qlco'), ('C0034866', 'recommendations', 'idcn'), ('C0011849', 'diabetes', 'dsyn'), ('C0029456', 'osteoporosis', 'dsyn'), ('C0580836', 'old', 'tmco'), ('C0439234', 'year', 'tmco')])], ['1', set([('C0205095', 'back', 'spco'), ('C1522704', 'exercise', 'topp'), ('C0043210', 'woman', 'popg'), ('C0020538', 'hypertension', 'dsyn'), ('C0439849', 'related', 'qlco'), ('C0439508', '/year', 'tmco'), ('C0232289', 'chest pain radiating', 'sosy'), ('C0150312', 'present', 'qnco'), ('C1963185', 'obesity', 'fndg'), ('C1455761', 'episodic', 'qlco'), ('C0580836', 'old', 'tmco')])], ['3', set([('C0746117', 'left lung mass', 'fndg'), ('C1962945', 'x-ray', 'diap'), ('C1281954', 'right frontal lobe', 'bpoc'), ('C0439508', '/year', 'tmco'), ('C0337672', 'non-smoker', 'fndg'), ('C0881943', 'head ct', 'clna'), ('C0086287', 'female', 'popg'), ('C1547282', 'show', 'inpr'), ('C0580836', 'old', 'tmco'), ('C1265601', 'solitary mass', 'anab')])], ['2', set([('C0015967', 'fever', 'fndg'), ('C0870221', 'boy', 'aggp'), ('C1961131', 'cough', 'fndg'), ('C0009399', 'colorado', 'geoa'), ('C0580836', 'old', 'tmco'), ('C2129214', 'loose stools', 'sosy'), ('C1114557', 'chest x-ray', 'clna'), ('C0235896', 'lung infiltrate', 'dsyn'), ('C0221188', 'trip', 'phpr'), ('C0332156', 'return', 'qlco'), ('C0556972', 'days year', 'tmco'), ('C0238767', 'bilateral', 'spco'), ('C1547282', 'show', 'inpr')])], ['5', set([('C0238844', 'decreased breath sounds', 'fndg'), ('C1744699', 'physical exam', 'idcn'), ('C0043210', 'woman', 'popg'), ('C0439508', '/year', 'tmco'), ('C0543467', 'surgical', 'hlca'), ('C0238883', 'calf tenderness', 'sosy'), ('C0150312', 'present', 'qnco'), ('C0205250', 'elevated', 'qlco'), ('C0024886', 'mastectomy', 'topp'), ('C0234233', 'tenderness', 'sosy'), ('C0178499', 'base', 'chvf'), ('C0439230', 'weeks', 'tmco'), ('C2707305', 'shortness of breath', 'clna'), ('C0427602', 'd dimer level', 'lbtr'), ('C0750502', 'significant', 'idcn'), ('C0205090', 'right', 'spco'), ('C0580836', 'old', 'tmco'), ('C0489801', 'right calf', 'blor')])], ['4', set([('C0439508', '/year', 'tmco'), ('C0009763', 'conjunctivitis', 'dsyn'), ('C0205250', 'elevated', 'qlco'), ('C3244125', 'lab results', 'inpr'), ('C1547282', 'show', 'inpr'), ('C0870221', 'boy', 'aggp'), ('C2700617', 'irritability', 'menp'), ('C0427512', 'white blood cell count', 'lbtr'), ('C0241262', 'strawberry tongue', 'dsyn'), ('C0555120', 'urine leukocytes', 'fndg'), ('C0860864', 'low albumin', 'fndg'), ('C0580836', 'old', 'tmco'), ('C0439228', 'days', 'tmco'), ('C2827735', '2+', 'qnco'), ('C0016129', 'fingers', 'blor'), ('C0205042', 'coronary arteries', 'bpoc'), ('C0015967', 'fever', 'fndg'), ('C0332257', 'include', 'ftcn'), ('C0944980', 'physical exam findings', 'clna'), ('C0237849', 'desquamation', 'fndg'), ('C0205081', 'moderate', 'qlco'), ('C0006560', 'c-reactive protein', 'aapp, imft'), ('C0040357', 'toes', 'bpoc'), ('C1655045', 'echo', 'euka'), ('C0700124', 'dilation', 'ftcn')])], ['7', set([('C0022107', 'irritability', 'fndg'), ('C0005586', 'bipolar disorder', 'mobd'), ('C0043210', 'woman', 'popg'), ('C0235162', 'difficulty sleeping', 'sosy'), ('C0439508', '/year', 'tmco'), ('C0085631', 'agitation', 'sosy'), ('C0580836', 'old', 'tmco'), ('C0424000', 'suicidal ideation', 'fndg'), ('C0023870', 'lithium', 'elii, phsu'), ('C0078839', 'zolpidem', 'orch, phsu'), ('C0028754', 'obese', 'dsyn'), ('C0332185', 'recent', 'tmco')])], ['6', set([('C1948052', 'now', 'tmco'), ('C2089742', 'oozing skin lesion', 'fndg'), ('C0043210', 'woman', 'popg'), ('C0030193', 'painful', 'sosy'), ('C0230443', 'left lower leg', 'bpoc'), ('C0011849', 'diabetes', 'dsyn'), ('C0205318', 'uncontrolled', 'qlco'), ('C0580836', 'old', 'tmco'), ('C0439234', 'year', 'tmco')])], ['9', set([('C0522507', 'colored', 'qlco'), ('C0439508', '/year', 'tmco'), ('C0043210', 'woman', 'popg'), ('C0027530', 'neck', 'blor'), ('C1335371', 'pedunculated lesion', 'fndg'), ('C0205358', 'soft', 'qlco'), ('C0580836', 'old', 'tmco')])], ['8', set([('C1140621', 'leg', 'blor'), ('C0443172', 'change', 'qnco'), ('C0018220', 'gray matter', 'tisu'), ('C0580836', 'old', 'tmco'), ('C3550269', 'reactive astrocytosis', 'fndg'), ('C0439508', '/year', 'tmco'), ('C0042219', 'vacuolar', 'celc'), ('C0005558', 'biopsy', 'diap'), ('C0235946', 'cortical atrophy', 'dsyn'), ('C0751295', 'memory loss', 'sosy'), ('C0205329', 'progressive', 'ftcn'), ('C0427086', 'involuntary movements', 'sosy'), ('C0024554', 'man', 'orga'), ('C0443289', 'reveal', 'qlco'), ('C0007776', 'cortical', 'bpoc'), ('C0412675', 'brain mri', 'diap'), ('C1547282', 'show', 'inpr')])], ['11', set([('C0205082', 'severe', 'qlco'), ('C0043210', 'woman', 'popg'), ('C0332122', 'no history of', 'qlco'), ('C0439508', '/year', 'tmco'), ('C0439509', '/40', 'tmco'), ('C1268255', 'right arm', 'bpoc'), ('C0443289', 'reveal', 'qlco'), ('C0043250', 'trauma', 'inpo'), ('C0020649', 'hypotension', 'fndg'), ('C2607943', 'findings', 'ftcn'), ('C0582103', 'exam', 'hlca'), ('C0580836', 'old', 'tmco'), ('C0564821', 'right arm pain', 'sosy'), ('C0750502', 'significant', 'idcn')])], ['10', set([('C1948052', 'now', 'tmco'), ('C0043210', 'woman', 'popg'), ('C1548792', 'cool', 'qlco'), ('C1281566', 'right femoral artery', 'bpoc'), ('C0439508', '/year', 'tmco'), ('C1280173', 'femoral artery', 'bpoc'), ('C0189896', 'right cardiac catheterisation', 'diap'), ('C0277899', 'pulseless', 'fndg'), ('C0558799', 'femoral bruit', 'fndg'), ('C0687676', 'status post', 'tmco'), ('C1279998', 'right foot', 'bpoc'), ('C0205090', 'right', 'spco'), ('C0580836', 'old', 'tmco'), ('C0018795', 'cardiac catheterization', 'diap, topp')])], ['13', set([('C0043210', 'woman', 'popg'), ('C0439508', '/year', 'tmco'), ('C0150312', 'present', 'qnco'), ('C0231835', 'tachypnea', 'sosy'), ('C1963140', 'hypoxia', 'fndg'), ('C1442462', '3 weeks', 'tmco'), ('C2707305', 'shortness of breath', 'clna'), ('C0086839', 'postpartum', 'tmco'), ('C0580836', 'old', 'tmco')])], ['12', set([('C0043210', 'woman', 'popg'), ('C0009269', 'cold intolerance', 'sosy'), ('C0439508', '/year', 'tmco'), ('C0015672', 'fatigue', 'sosy'), ('C0043094', 'weight gain', 'fndg'), ('C0002170', 'hair loss', 'fndg'), ('C0439231', 'months', 'tmco'), ('C0580836', 'old', 'tmco')])], ['15', set([('C0205160', 'negative', 'qlco'), ('C0205146', 'areas', 'spco'), ('C0439508', '/year', 'tmco'), ('C0332290', 'consistent with', 'idcn'), ('C0043210', 'woman', 'popg'), ('C0002453', 'amenorrhea', 'dsyn'), ('C0079103', 'cervical dilation', 'ortf'), ('C0232498', 'abdominal tenderness', 'sosy'), ('C0580836', 'old', 'tmco'), ('C0430056', 'urine pregnancy test', 'lbpr'), ('C0443289', 'reveal', 'qlco'), ('C1875843', 'ultrasound', 'medd'), ('C0023267', 'fibroid', 'neop'), ('C0151994', 'enlarged uterus', 'fndg'), ('C0678213', 'vesicular mole', 'neop'), ('C0442872', 'multiple cysts', 'acab'), ('C1880269', 'degeneration', 'ftcn')])], ['14', set([('C1579887', 'car accident', 'inpo'), ('C0001288', 'activities of daily living', 'dora'), ('C1948052', 'now', 'tmco'), ('C0439230', 'weeks', 'tmco'), ('C0234425', 'level of consciousness', 'fndg'), ('C0221099', 'impaired', 'ftcn'), ('C0442797', 'decreasing', 'qlco'), ('C0439508', '/year', 'tmco'), ('C0439228', 'days', 'tmco'), ('C0884358', 'perform', 'ftcn'), ('C0024554', 'man', 'orga'), ('C1421478', 'was', 'gngm'), ('C0580836', 'old', 'tmco'), ('C0085732', 'ability', 'orga')])], ['17', set([('C0015967', 'fever', 'fndg'), ('C0085704', 'exploratory laparotomy', 'diap'), ('C0150312', 'found', 'qnco'), ('C0024554', 'man', 'orga'), ('C0333371', 'ruptured abscess', 'patf'), ('C0023884', 'liver', 'bpoc'), ('C0439508', '/year', 'tmco'), ('C0443294', 'ruptured', 'ftcn'), ('C0150312', 'present', 'qnco'), ('C0000737', 'abdominal pain', 'sosy'), ('C0009447', 'common variable immunodeficiency', 'dsyn'), ('C0341444', 'ruptured liver nos', 'inpo'), ('C0443289', 'reveal', 'qlco'), ('C1875843', 'ultrasound', 'medd'), ('C0013687', 'free fluid', 'patf'), ('C0019209', 'hepatomegaly', 'sosy'), ('C0000833', 'abscess', 'dsyn'), ('C0013103', 'drain', 'topp'), ('C0023885', 'liver abscess', 'dsyn'), ('C0580836', 'old', 'tmco'), ('C0442120', 'intraperitoneal', 'spco')])], ['16', set([('C0205449', 'three', 'qnco'), ('C0439230', 'weeks', 'tmco'), ('C0449450', 'presented', 'idcn'), ('C0085631', 'agitation', 'sosy'), ('C0205265', 'initially', 'tmco'), ('C0439508', '/year', 'tmco'), ('C0026838', 'spasticity', 'sosy'), ('C0580836', 'old', 'tmco'), ('C0003062', 'animals', 'anim'), ('C0439228', 'days', 'tmco'), ('C0230347', 'left arm', 'bpoc'), ('C0011168', 'difficulty swallowing', 'dsyn'), ('C2937276', 'slight', 'qlco'), ('C1269612', 'arm', 'blor'), ('C0750502', 'significant', 'idcn'), ('C0038990', 'diaphoresis', 'fndg'), ('C0034494', 'hydrophobia', 'dsyn'), ('C0043227', 'working', 'ocac'), ('C1744699', 'physical exam', 'idcn'), ('C0028643', 'numbness', 'sosy'), ('C1963252', 'tremor', 'fndg'), ('C1963180', 'neck pain', 'fndg'), ('C0086287', 'female', 'popg')])], ['19', set([('C1948052', 'now', 'tmco'), ('C1519384', 'smoking history', 'fndg'), ('C0439508', '/year', 'tmco'), ('C0043096', 'weightloss', 'fndg'), ('C0687132', 'heavy drinking', 'mobd'), ('C0439219', 'pound', 'qnco'), ('C0024554', 'man', 'orga'), ('C2911645', 'weight loss', 'fndg'), ('C0743319', 'dysphagia, progressive', 'dsyn'), ('C0580836', 'old', 'tmco')])], ['18', set([('C0439227', 'hours', 'tmco'), ('C1706180', 'male', 'qlco'), ('C0439507', '/month', 'tmco'), ('C0430397', 'urine microscopy', 'lbpr'), ('C0013604', 'edema', 'patf'), ('C1277078', 'red blood cells', 'phsu'), ('C0039231', 'tachycardia', 'fndg'), ('C0857121', 'hypertensive', 'fndg'), ('C0443289', 'reveal', 'qlco'), ('C0010294', 'creatinine', 'bacs, orch'), ('C1299351', 'high', 'qlco'), ('C0028961', 'decreased urine output', 'sosy'), ('C0010837', 'granular', 'celc'), ('C0543467', 'surgery', 'hlca'), ('C0302143', 'cast', 'bdsu'), ('C0580836', 'old', 'tmco')])], ['30', set([('C0439508', '/year', 'tmco'), ('C0080331', 'walking', 'dora'), ('C0020538', 'hypertension', 'dsyn'), ('C0205090', 'right', 'spco'), ('C0018787', 'heart', 'bpoc'), ('C1321605', 'compliance', 'inbe'), ('C0683519', 'history of disease', 'fndg'), ('C2364172', 'medication compliance', 'fndg'), ('C1744699', 'physical exam', 'idcn'), ('C0236040', 'calf pain', 'sosy'), ('C1997492', 'dorsalis pedis pulses', 'clna'), ('C0024554', 'man', 'orga'), ('C0023216', 'lower extremities', 'blor'), ('C0007280', 'carotid bruit', 'fndg'), ('C0684167', 'hypertension medication', 'phsu'), ('C0205216', 'diminished', 'qnco'), ('C1548792', 'cool', 'qlco'), ('C0475224', 'ischaemic', 'ftcn'), ('C0580836', 'old', 'tmco'), ('C1457868', 'worsening', 'fndg')])]]\n"
     ]
    }
   ],
   "source": [
    "print(\"getting original concepts\")\n",
    "origQueries_l = [[k, v] for k, v in origQueries.iteritems()]\n",
    "\n",
    "pool = Pool(processes=10) \n",
    "qidConcepts = (pool.map(text2umlsConcepts, origQueries_l))\n",
    "print(qidConcepts)"
   ]
  },
  {
   "cell_type": "code",
   "execution_count": 135,
   "metadata": {
    "collapsed": false
   },
   "outputs": [
    {
     "name": "stdout",
     "output_type": "stream",
     "text": [
      "convert qidConcepts to a dictionary formatted container\n",
      "{'24': [('C0443318', 'sustained', 'ftcn'), ('C0439508', '/year', 'tmco'), ('C0205082', 'severe', 'qlco'), ('C0278140', 'severe pain', 'sosy'), ('C0038000', 'ruptured spleen', 'inpo'), ('C0332174', '/week', 'tmco'), ('C0848377', 'abdominal trauma', 'inpo'), ('C0011923', 'imaging', 'diap'), ('C0857353', 'hypotensive', 'patf'), ('C0687676', 'after', 'tmco'), ('C0701802', 'bike accident', 'inpo'), ('C0150312', 'present', 'qnco'), ('C0000737', 'abdominal pain', 'sosy'), ('C0039231', 'tachycardia', 'fndg'), ('C0443289', 'reveal', 'qlco'), ('C0019065', 'intraperitoneal hemorrhage', 'patf'), ('C0000726', 'abdominal', 'blor'), ('C0205447', 'one', 'qnco'), ('C0580836', 'old', 'tmco'), ('C1706180', 'male', 'qlco')], '25': [('C0019602', 'his', 'aapp, bacs, phsu'), ('C1821572', 'decreased level of consciousness', 'fndg'), ('C0018884', 'helmet', 'mnob'), ('C0087111', 'treatment', 'topp'), ('C0018670', 'head', 'blor'), ('C0205253', 'immediate', 'tmco'), ('C0439508', '/year', 'tmco'), ('C0687676', 'after', 'tmco'), ('C0005375', 'bike', 'mnob'), ('C0237427', 'neurosurgeon', 'prog'), ('C0456693', '/30 minutes', 'tmco'), ('C0332159', 'hitting', 'ftcn'), ('C0857121', 'hypertensive', 'fndg'), ('C0085639', 'falling', 'fndg'), ('C0870221', 'boy', 'aggp'), ('C0428977', 'bradycardia', 'patf'), ('C1518422', 'not', 'ftcn'), ('C0580836', 'old', 'tmco')], '26': [('C0020971', 'immunizations', 'topp'), ('C0040802', 'traveling', 'dora'), ('C0199244', 'malaria prophylaxis', 'topp'), ('C0325969', 'amazon, nos', 'bird'), ('C0011008', 'date', 'tmco'), ('C0439086', '<3', 'qnco'), ('C1705429', 'group', 'popg'), ('C0680022', 'members', 'popg'), ('C0332257', 'including', 'ftcn'), ('C0033011', 'pregnant women', 'popg')], '27': [('C0001675', '21 old year', 'aggp'), ('C0009274', 'colectomies', 'topp'), ('C0150312', 'found', 'qnco'), ('C1706180', 'male', 'qlco'), ('C0032584', 'polyps', 'anab'), ('C0443289', 'revealed', 'qlco'), ('C0700321', 'small', 'qnco'), ('C0009556', 'total colonoscopy', 'diap'), ('C0001430', 'adenomas', 'neop'), ('C0241889', 'family history', 'fndg'), ('C1548837', 'colonoscopy', 'hlca'), ('C0337511', 'older sibling', 'famg'), ('C0750502', 'significant', 'idcn')], '20': [('C0684312', 'driver', 'popg'), ('C1579887', 'car accident', 'inpo'), ('C0000924', 'accident, nos', 'inpo'), ('C0205082', 'severe', 'qlco'), ('C0403130', 'car driver', 'prog'), ('C0016655', 'multiple fractures', 'inpo'), ('C0580836', 'old', 'tmco'), ('C0439508', '/year', 'tmco'), ('C0231290', 'status post', 'tmco'), ('C0427198', 'guarding', 'fndg'), ('C0518447', 'extremity fractures', 'fndg'), ('C0015385', 'extremity', 'bpoc'), ('C0234246', 'rebound abdominal pain', 'sosy'), ('C0439064', 'multiple', 'qnco')], '21': [('C0001675', '21 old year', 'aggp'), ('C0277942', 'butterfly rash', 'fndg'), ('C0151480', 'positive ana', 'lbtr'), ('C0179686', 'cast', 'medd'), ('C0086287', 'female', 'popg'), ('C0332479', 'shaped', 'spco'), ('C0003862', 'arthralgias', 'sosy'), ('C2698136', 'anti-double stranded dna', 'lbpr'), ('C0239521', 'facial rash', 'fndg'), ('C0205329', 'progressive', 'ftcn'), ('C0006496', 'butterfly', 'euka'), ('C0014792', 'rbc', 'cell'), ('C0015672', 'fatigue', 'sosy'), ('C0587081', 'labs', 'fndg'), ('C0033687', 'proteinuria', 'fndg'), ('C0015450', 'facial', 'blor'), ('C0750502', 'significant', 'idcn')], '22': [('C0694551', 'abdominal pain, right lower quadrant', 'sosy'), ('C2348813', 'abdominal ultrasound', 'diap'), ('C0232462', 'decreased appetite', 'sosy'), ('C0439508', '/year', 'tmco'), ('C0442800', 'enlarged', 'qlco'), ('C1269000', 'appendix', 'bpoc'), ('C0870604', 'girl', 'aggp'), ('C0580836', 'old', 'tmco')], '23': [('C0439539', 'heavy', 'qlco'), ('C0439508', '/year', 'tmco'), ('C0239134', 'productive cough', 'sosy'), ('C0337664', 'smoker', 'fndg'), ('C0020449', 'hyperinflation', 'anab'), ('C0030054', 'oxygen', 'elii, phsu'), ('C1114557', 'chest x-ray', 'clna'), ('C0231835', 'tachypnea', 'sosy'), ('C1514873', 'requirement', 'ftcn'), ('C2707305', 'shortness of breath', 'clna'), ('C0702116', 'consolidation', 'qlco'), ('C0580836', 'old', 'tmco'), ('C1547282', 'show', 'inpr')], '28': [('C0205160', 'negative', 'qlco'), ('C0747979', 'elevated prolactin level', 'fndg'), ('C0042036', 'urine', 'bdsu'), ('C0002453', 'amenorrhea', 'dsyn'), ('C0439508', '/year', 'tmco'), ('C0430056', 'urine pregnancy test', 'lbpr'), ('C0567523', 'milky nipple discharge', 'sosy'), ('C0086287', 'female', 'popg'), ('C0427780', 'negative pregnancy test', 'lbtr'), ('C0580836', 'old', 'tmco'), ('C0450355', '31', 'inpr')], '29': [('C0567312', 'menopause', 'fndg'), ('C0309872', 'prevent', 'phsu'), ('C0020538', 'hypertension', 'dsyn'), ('C0337664', 'smoker', 'fndg'), ('C0027552', 'need', 'qlco'), ('C0034866', 'recommendations', 'idcn'), ('C0011849', 'diabetes', 'dsyn'), ('C0029456', 'osteoporosis', 'dsyn'), ('C0580836', 'old', 'tmco'), ('C0439234', 'year', 'tmco')], '1': [('C0205095', 'back', 'spco'), ('C1522704', 'exercise', 'topp'), ('C0043210', 'woman', 'popg'), ('C0020538', 'hypertension', 'dsyn'), ('C0439849', 'related', 'qlco'), ('C0439508', '/year', 'tmco'), ('C0232289', 'chest pain radiating', 'sosy'), ('C0150312', 'present', 'qnco'), ('C1963185', 'obesity', 'fndg'), ('C1455761', 'episodic', 'qlco'), ('C0580836', 'old', 'tmco')], '3': [('C0746117', 'left lung mass', 'fndg'), ('C1962945', 'x-ray', 'diap'), ('C1281954', 'right frontal lobe', 'bpoc'), ('C0439508', '/year', 'tmco'), ('C0337672', 'non-smoker', 'fndg'), ('C0881943', 'head ct', 'clna'), ('C0086287', 'female', 'popg'), ('C1547282', 'show', 'inpr'), ('C0580836', 'old', 'tmco'), ('C1265601', 'solitary mass', 'anab')], '2': [('C0015967', 'fever', 'fndg'), ('C0870221', 'boy', 'aggp'), ('C1961131', 'cough', 'fndg'), ('C0009399', 'colorado', 'geoa'), ('C0580836', 'old', 'tmco'), ('C2129214', 'loose stools', 'sosy'), ('C1114557', 'chest x-ray', 'clna'), ('C0235896', 'lung infiltrate', 'dsyn'), ('C0221188', 'trip', 'phpr'), ('C0332156', 'return', 'qlco'), ('C0556972', 'days year', 'tmco'), ('C0238767', 'bilateral', 'spco'), ('C1547282', 'show', 'inpr')], '5': [('C0238844', 'decreased breath sounds', 'fndg'), ('C1744699', 'physical exam', 'idcn'), ('C0043210', 'woman', 'popg'), ('C0439508', '/year', 'tmco'), ('C0543467', 'surgical', 'hlca'), ('C0238883', 'calf tenderness', 'sosy'), ('C0150312', 'present', 'qnco'), ('C0205250', 'elevated', 'qlco'), ('C0024886', 'mastectomy', 'topp'), ('C0234233', 'tenderness', 'sosy'), ('C0178499', 'base', 'chvf'), ('C0439230', 'weeks', 'tmco'), ('C2707305', 'shortness of breath', 'clna'), ('C0427602', 'd dimer level', 'lbtr'), ('C0750502', 'significant', 'idcn'), ('C0205090', 'right', 'spco'), ('C0580836', 'old', 'tmco'), ('C0489801', 'right calf', 'blor')], '4': [('C0439508', '/year', 'tmco'), ('C0009763', 'conjunctivitis', 'dsyn'), ('C0205250', 'elevated', 'qlco'), ('C3244125', 'lab results', 'inpr'), ('C1547282', 'show', 'inpr'), ('C0870221', 'boy', 'aggp'), ('C2700617', 'irritability', 'menp'), ('C0427512', 'white blood cell count', 'lbtr'), ('C0241262', 'strawberry tongue', 'dsyn'), ('C0555120', 'urine leukocytes', 'fndg'), ('C0860864', 'low albumin', 'fndg'), ('C0580836', 'old', 'tmco'), ('C0439228', 'days', 'tmco'), ('C2827735', '2+', 'qnco'), ('C0016129', 'fingers', 'blor'), ('C0205042', 'coronary arteries', 'bpoc'), ('C0015967', 'fever', 'fndg'), ('C0332257', 'include', 'ftcn'), ('C0944980', 'physical exam findings', 'clna'), ('C0237849', 'desquamation', 'fndg'), ('C0205081', 'moderate', 'qlco'), ('C0006560', 'c-reactive protein', 'aapp, imft'), ('C0040357', 'toes', 'bpoc'), ('C1655045', 'echo', 'euka'), ('C0700124', 'dilation', 'ftcn')], '7': [('C0022107', 'irritability', 'fndg'), ('C0005586', 'bipolar disorder', 'mobd'), ('C0043210', 'woman', 'popg'), ('C0235162', 'difficulty sleeping', 'sosy'), ('C0439508', '/year', 'tmco'), ('C0085631', 'agitation', 'sosy'), ('C0580836', 'old', 'tmco'), ('C0424000', 'suicidal ideation', 'fndg'), ('C0023870', 'lithium', 'elii, phsu'), ('C0078839', 'zolpidem', 'orch, phsu'), ('C0028754', 'obese', 'dsyn'), ('C0332185', 'recent', 'tmco')], '6': [('C1948052', 'now', 'tmco'), ('C2089742', 'oozing skin lesion', 'fndg'), ('C0043210', 'woman', 'popg'), ('C0030193', 'painful', 'sosy'), ('C0230443', 'left lower leg', 'bpoc'), ('C0011849', 'diabetes', 'dsyn'), ('C0205318', 'uncontrolled', 'qlco'), ('C0580836', 'old', 'tmco'), ('C0439234', 'year', 'tmco')], '9': [('C0522507', 'colored', 'qlco'), ('C0439508', '/year', 'tmco'), ('C0043210', 'woman', 'popg'), ('C0027530', 'neck', 'blor'), ('C1335371', 'pedunculated lesion', 'fndg'), ('C0205358', 'soft', 'qlco'), ('C0580836', 'old', 'tmco')], '8': [('C1140621', 'leg', 'blor'), ('C0443172', 'change', 'qnco'), ('C0018220', 'gray matter', 'tisu'), ('C0580836', 'old', 'tmco'), ('C3550269', 'reactive astrocytosis', 'fndg'), ('C0439508', '/year', 'tmco'), ('C0042219', 'vacuolar', 'celc'), ('C0005558', 'biopsy', 'diap'), ('C0235946', 'cortical atrophy', 'dsyn'), ('C0751295', 'memory loss', 'sosy'), ('C0205329', 'progressive', 'ftcn'), ('C0427086', 'involuntary movements', 'sosy'), ('C0024554', 'man', 'orga'), ('C0443289', 'reveal', 'qlco'), ('C0007776', 'cortical', 'bpoc'), ('C0412675', 'brain mri', 'diap'), ('C1547282', 'show', 'inpr')], '11': [('C0205082', 'severe', 'qlco'), ('C0043210', 'woman', 'popg'), ('C0332122', 'no history of', 'qlco'), ('C0439508', '/year', 'tmco'), ('C0439509', '/40', 'tmco'), ('C1268255', 'right arm', 'bpoc'), ('C0443289', 'reveal', 'qlco'), ('C0043250', 'trauma', 'inpo'), ('C0020649', 'hypotension', 'fndg'), ('C2607943', 'findings', 'ftcn'), ('C0582103', 'exam', 'hlca'), ('C0580836', 'old', 'tmco'), ('C0564821', 'right arm pain', 'sosy'), ('C0750502', 'significant', 'idcn')], '10': [('C1948052', 'now', 'tmco'), ('C0043210', 'woman', 'popg'), ('C1548792', 'cool', 'qlco'), ('C1281566', 'right femoral artery', 'bpoc'), ('C0439508', '/year', 'tmco'), ('C1280173', 'femoral artery', 'bpoc'), ('C0189896', 'right cardiac catheterisation', 'diap'), ('C0277899', 'pulseless', 'fndg'), ('C0558799', 'femoral bruit', 'fndg'), ('C0687676', 'status post', 'tmco'), ('C1279998', 'right foot', 'bpoc'), ('C0205090', 'right', 'spco'), ('C0580836', 'old', 'tmco'), ('C0018795', 'cardiac catheterization', 'diap, topp')], '13': [('C0043210', 'woman', 'popg'), ('C0439508', '/year', 'tmco'), ('C0150312', 'present', 'qnco'), ('C0231835', 'tachypnea', 'sosy'), ('C1963140', 'hypoxia', 'fndg'), ('C1442462', '3 weeks', 'tmco'), ('C2707305', 'shortness of breath', 'clna'), ('C0086839', 'postpartum', 'tmco'), ('C0580836', 'old', 'tmco')], '12': [('C0043210', 'woman', 'popg'), ('C0009269', 'cold intolerance', 'sosy'), ('C0439508', '/year', 'tmco'), ('C0015672', 'fatigue', 'sosy'), ('C0043094', 'weight gain', 'fndg'), ('C0002170', 'hair loss', 'fndg'), ('C0439231', 'months', 'tmco'), ('C0580836', 'old', 'tmco')], '15': [('C0205160', 'negative', 'qlco'), ('C0205146', 'areas', 'spco'), ('C0439508', '/year', 'tmco'), ('C0332290', 'consistent with', 'idcn'), ('C0043210', 'woman', 'popg'), ('C0002453', 'amenorrhea', 'dsyn'), ('C0079103', 'cervical dilation', 'ortf'), ('C0232498', 'abdominal tenderness', 'sosy'), ('C0580836', 'old', 'tmco'), ('C0430056', 'urine pregnancy test', 'lbpr'), ('C0443289', 'reveal', 'qlco'), ('C1875843', 'ultrasound', 'medd'), ('C0023267', 'fibroid', 'neop'), ('C0151994', 'enlarged uterus', 'fndg'), ('C0678213', 'vesicular mole', 'neop'), ('C0442872', 'multiple cysts', 'acab'), ('C1880269', 'degeneration', 'ftcn')], '14': [('C1579887', 'car accident', 'inpo'), ('C0001288', 'activities of daily living', 'dora'), ('C1948052', 'now', 'tmco'), ('C0439230', 'weeks', 'tmco'), ('C0234425', 'level of consciousness', 'fndg'), ('C0221099', 'impaired', 'ftcn'), ('C0442797', 'decreasing', 'qlco'), ('C0439508', '/year', 'tmco'), ('C0439228', 'days', 'tmco'), ('C0884358', 'perform', 'ftcn'), ('C0024554', 'man', 'orga'), ('C1421478', 'was', 'gngm'), ('C0580836', 'old', 'tmco'), ('C0085732', 'ability', 'orga')], '17': [('C0015967', 'fever', 'fndg'), ('C0085704', 'exploratory laparotomy', 'diap'), ('C0150312', 'found', 'qnco'), ('C0024554', 'man', 'orga'), ('C0333371', 'ruptured abscess', 'patf'), ('C0023884', 'liver', 'bpoc'), ('C0439508', '/year', 'tmco'), ('C0443294', 'ruptured', 'ftcn'), ('C0150312', 'present', 'qnco'), ('C0000737', 'abdominal pain', 'sosy'), ('C0009447', 'common variable immunodeficiency', 'dsyn'), ('C0341444', 'ruptured liver nos', 'inpo'), ('C0443289', 'reveal', 'qlco'), ('C1875843', 'ultrasound', 'medd'), ('C0013687', 'free fluid', 'patf'), ('C0019209', 'hepatomegaly', 'sosy'), ('C0000833', 'abscess', 'dsyn'), ('C0013103', 'drain', 'topp'), ('C0023885', 'liver abscess', 'dsyn'), ('C0580836', 'old', 'tmco'), ('C0442120', 'intraperitoneal', 'spco')], '16': [('C0205449', 'three', 'qnco'), ('C0439230', 'weeks', 'tmco'), ('C0449450', 'presented', 'idcn'), ('C0085631', 'agitation', 'sosy'), ('C0205265', 'initially', 'tmco'), ('C0439508', '/year', 'tmco'), ('C0026838', 'spasticity', 'sosy'), ('C0580836', 'old', 'tmco'), ('C0003062', 'animals', 'anim'), ('C0439228', 'days', 'tmco'), ('C0230347', 'left arm', 'bpoc'), ('C0011168', 'difficulty swallowing', 'dsyn'), ('C2937276', 'slight', 'qlco'), ('C1269612', 'arm', 'blor'), ('C0750502', 'significant', 'idcn'), ('C0038990', 'diaphoresis', 'fndg'), ('C0034494', 'hydrophobia', 'dsyn'), ('C0043227', 'working', 'ocac'), ('C1744699', 'physical exam', 'idcn'), ('C0028643', 'numbness', 'sosy'), ('C1963252', 'tremor', 'fndg'), ('C1963180', 'neck pain', 'fndg'), ('C0086287', 'female', 'popg')], '19': [('C1948052', 'now', 'tmco'), ('C1519384', 'smoking history', 'fndg'), ('C0439508', '/year', 'tmco'), ('C0043096', 'weightloss', 'fndg'), ('C0687132', 'heavy drinking', 'mobd'), ('C0439219', 'pound', 'qnco'), ('C0024554', 'man', 'orga'), ('C2911645', 'weight loss', 'fndg'), ('C0743319', 'dysphagia, progressive', 'dsyn'), ('C0580836', 'old', 'tmco')], '18': [('C0439227', 'hours', 'tmco'), ('C1706180', 'male', 'qlco'), ('C0439507', '/month', 'tmco'), ('C0430397', 'urine microscopy', 'lbpr'), ('C0013604', 'edema', 'patf'), ('C1277078', 'red blood cells', 'phsu'), ('C0039231', 'tachycardia', 'fndg'), ('C0857121', 'hypertensive', 'fndg'), ('C0443289', 'reveal', 'qlco'), ('C0010294', 'creatinine', 'bacs, orch'), ('C1299351', 'high', 'qlco'), ('C0028961', 'decreased urine output', 'sosy'), ('C0010837', 'granular', 'celc'), ('C0543467', 'surgery', 'hlca'), ('C0302143', 'cast', 'bdsu'), ('C0580836', 'old', 'tmco')], '30': [('C0439508', '/year', 'tmco'), ('C0080331', 'walking', 'dora'), ('C0020538', 'hypertension', 'dsyn'), ('C0205090', 'right', 'spco'), ('C0018787', 'heart', 'bpoc'), ('C1321605', 'compliance', 'inbe'), ('C0683519', 'history of disease', 'fndg'), ('C2364172', 'medication compliance', 'fndg'), ('C1744699', 'physical exam', 'idcn'), ('C0236040', 'calf pain', 'sosy'), ('C1997492', 'dorsalis pedis pulses', 'clna'), ('C0024554', 'man', 'orga'), ('C0023216', 'lower extremities', 'blor'), ('C0007280', 'carotid bruit', 'fndg'), ('C0684167', 'hypertension medication', 'phsu'), ('C0205216', 'diminished', 'qnco'), ('C1548792', 'cool', 'qlco'), ('C0475224', 'ischaemic', 'ftcn'), ('C0580836', 'old', 'tmco'), ('C1457868', 'worsening', 'fndg')]}\n"
     ]
    }
   ],
   "source": [
    "print(\"convert qidConcepts to a dictionary formatted container\")\n",
    "qidConcepts_d = {qidConcs[0]: list(qidConcs[1]) for qidConcs in qidConcepts} \n",
    "print(qidConcepts_d)"
   ]
  },
  {
   "cell_type": "code",
   "execution_count": 141,
   "metadata": {
    "collapsed": false
   },
   "outputs": [
    {
     "name": "stdout",
     "output_type": "stream",
     "text": [
      "['T200', 'T047', 'T037', 'T121', 'T184', 'T061']\n"
     ]
    }
   ],
   "source": [
    "goodSty = [\"Clinical Drug\", \"Disease or Syndrome\", \"Injury or Poisoning\", \"Pharmacologic Substance\", \"Sign or Symptom\", \"Therapeutic or Preventive Procedure\"]\n",
    "goodTui = [sty_d_str[gSty] for gSty in goodSty]\n",
    "print (goodTui)"
   ]
  },
  {
   "cell_type": "code",
   "execution_count": null,
   "metadata": {
    "collapsed": true
   },
   "outputs": [],
   "source": [
    "relConcs1_d = dict()\n",
    "if qNo, origConcs in qidConcepts_d:\n",
    "    for origConc in origConcs:\n",
    "        relConcepts1conc = relConcepts[origConc[0]]\n",
    "    origConc\n",
    "    relConcs1_d = qidConcepts_d[qNo]\n",
    "qWeightsLayerConcepts[qNo].append ([0.05, origConcs])"
   ]
  },
  {
   "cell_type": "code",
   "execution_count": 137,
   "metadata": {
    "collapsed": false
   },
   "outputs": [
    {
     "name": "stdout",
     "output_type": "stream",
     "text": [
      "combine different level of concepts\n",
      "{'24': [[0.95, u' 33-year-old male presents with severe abdominal pain one week after a bike accident in which he sustained abdominal trauma. He is hypotensive and tachycardic, and imaging reveals a ruptured spleen and intraperitoneal hemorrhage.'], [0.05, [('C0443318', 'sustained', 'ftcn'), ('C0439508', '/year', 'tmco'), ('C0205082', 'severe', 'qlco'), ('C0278140', 'severe pain', 'sosy'), ('C0038000', 'ruptured spleen', 'inpo'), ('C0332174', '/week', 'tmco'), ('C0848377', 'abdominal trauma', 'inpo'), ('C0011923', 'imaging', 'diap'), ('C0857353', 'hypotensive', 'patf'), ('C0687676', 'after', 'tmco'), ('C0701802', 'bike accident', 'inpo'), ('C0150312', 'present', 'qnco'), ('C0000737', 'abdominal pain', 'sosy'), ('C0039231', 'tachycardia', 'fndg'), ('C0443289', 'reveal', 'qlco'), ('C0019065', 'intraperitoneal hemorrhage', 'patf'), ('C0000726', 'abdominal', 'blor'), ('C0205447', 'one', 'qnco'), ('C0580836', 'old', 'tmco'), ('C1706180', 'male', 'qlco')]]], '25': [[0.95, u'8-year-old boy with decreased level of consciousness 30 minutes after falling from his bike and hitting his head. He was not wearing a helmet. In the ER he was bradycardic and hypertensive, and the neurosurgeon strongly advised immediate treatment.'], [0.05, [('C0019602', 'his', 'aapp, bacs, phsu'), ('C1821572', 'decreased level of consciousness', 'fndg'), ('C0018884', 'helmet', 'mnob'), ('C0087111', 'treatment', 'topp'), ('C0018670', 'head', 'blor'), ('C0205253', 'immediate', 'tmco'), ('C0439508', '/year', 'tmco'), ('C0687676', 'after', 'tmco'), ('C0005375', 'bike', 'mnob'), ('C0237427', 'neurosurgeon', 'prog'), ('C0456693', '/30 minutes', 'tmco'), ('C0332159', 'hitting', 'ftcn'), ('C0857121', 'hypertensive', 'fndg'), ('C0085639', 'falling', 'fndg'), ('C0870221', 'boy', 'aggp'), ('C0428977', 'bradycardia', 'patf'), ('C1518422', 'not', 'ftcn'), ('C0580836', 'old', 'tmco')]]], '26': [[0.95, u\"Group traveling to the Amazon rainforest, including 3 pregnant women. All members' immunizations are up-to-date but they require malaria prophylaxis.\"], [0.05, [('C0020971', 'immunizations', 'topp'), ('C0040802', 'traveling', 'dora'), ('C0199244', 'malaria prophylaxis', 'topp'), ('C0325969', 'amazon, nos', 'bird'), ('C0011008', 'date', 'tmco'), ('C0439086', '<3', 'qnco'), ('C1705429', 'group', 'popg'), ('C0680022', 'members', 'popg'), ('C0332257', 'including', 'ftcn'), ('C0033011', 'pregnant women', 'popg')]]], '27': [[0.95, u'21-year-old male with dozens of small polyps found on colonoscopy. Family history significant for both older siblings having total colectomies after colonoscopy revealed hundreds of adenomas.'], [0.05, [('C0001675', '21 old year', 'aggp'), ('C0009274', 'colectomies', 'topp'), ('C0150312', 'found', 'qnco'), ('C1706180', 'male', 'qlco'), ('C0032584', 'polyps', 'anab'), ('C0443289', 'revealed', 'qlco'), ('C0700321', 'small', 'qnco'), ('C0009556', 'total colonoscopy', 'diap'), ('C0001430', 'adenomas', 'neop'), ('C0241889', 'family history', 'fndg'), ('C1548837', 'colonoscopy', 'hlca'), ('C0337511', 'older sibling', 'famg'), ('C0750502', 'significant', 'idcn')]]], '20': [[0.95, u'32-year-old unbelted driver status post car accident. Has multiple extremity fractures and severe abdominal pain with rebound and guarding.'], [0.05, [('C0684312', 'driver', 'popg'), ('C1579887', 'car accident', 'inpo'), ('C0000924', 'accident, nos', 'inpo'), ('C0205082', 'severe', 'qlco'), ('C0403130', 'car driver', 'prog'), ('C0016655', 'multiple fractures', 'inpo'), ('C0580836', 'old', 'tmco'), ('C0439508', '/year', 'tmco'), ('C0231290', 'status post', 'tmco'), ('C0427198', 'guarding', 'fndg'), ('C0518447', 'extremity fractures', 'fndg'), ('C0015385', 'extremity', 'bpoc'), ('C0234246', 'rebound abdominal pain', 'sosy'), ('C0439064', 'multiple', 'qnco')]]], '21': [[0.95, u'21-year-old female with progressive arthralgias, fatigue, and butterfly-shaped facial rash. Labs are significant for positive ANA and anti-double-stranded DNA, as well as proteinuria and RBC casts.'], [0.05, [('C0001675', '21 old year', 'aggp'), ('C0277942', 'butterfly rash', 'fndg'), ('C0151480', 'positive ana', 'lbtr'), ('C0179686', 'cast', 'medd'), ('C0086287', 'female', 'popg'), ('C0332479', 'shaped', 'spco'), ('C0003862', 'arthralgias', 'sosy'), ('C2698136', 'anti-double stranded dna', 'lbpr'), ('C0239521', 'facial rash', 'fndg'), ('C0205329', 'progressive', 'ftcn'), ('C0006496', 'butterfly', 'euka'), ('C0014792', 'rbc', 'cell'), ('C0015672', 'fatigue', 'sosy'), ('C0587081', 'labs', 'fndg'), ('C0033687', 'proteinuria', 'fndg'), ('C0015450', 'facial', 'blor'), ('C0750502', 'significant', 'idcn')]]], '22': [[0.95, u'15-year-old girl with right lower quadrant abdominal pain, decreased appetite, and enlarged appendix on abdominal ultrasound.'], [0.05, [('C0694551', 'abdominal pain, right lower quadrant', 'sosy'), ('C2348813', 'abdominal ultrasound', 'diap'), ('C0232462', 'decreased appetite', 'sosy'), ('C0439508', '/year', 'tmco'), ('C0442800', 'enlarged', 'qlco'), ('C1269000', 'appendix', 'bpoc'), ('C0870604', 'girl', 'aggp'), ('C0580836', 'old', 'tmco')]]], '23': [[0.95, u'63-year-old heavy smoker with productive cough, shortness of breath, tachypnea, and oxygen requirement. Chest x-ray shows hyperinflation with no consolidation.'], [0.05, [('C0439539', 'heavy', 'qlco'), ('C0439508', '/year', 'tmco'), ('C0239134', 'productive cough', 'sosy'), ('C0337664', 'smoker', 'fndg'), ('C0020449', 'hyperinflation', 'anab'), ('C0030054', 'oxygen', 'elii, phsu'), ('C1114557', 'chest x-ray', 'clna'), ('C0231835', 'tachypnea', 'sosy'), ('C1514873', 'requirement', 'ftcn'), ('C2707305', 'shortness of breath', 'clna'), ('C0702116', 'consolidation', 'qlco'), ('C0580836', 'old', 'tmco'), ('C1547282', 'show', 'inpr')]]], '28': [[0.95, u'31-year-old female with amenorrhea, milky nipple discharge, negative urine pregnancy test, and elevated prolactin level.'], [0.05, [('C0205160', 'negative', 'qlco'), ('C0747979', 'elevated prolactin level', 'fndg'), ('C0042036', 'urine', 'bdsu'), ('C0002453', 'amenorrhea', 'dsyn'), ('C0439508', '/year', 'tmco'), ('C0430056', 'urine pregnancy test', 'lbpr'), ('C0567523', 'milky nipple discharge', 'sosy'), ('C0086287', 'female', 'popg'), ('C0427780', 'negative pregnancy test', 'lbtr'), ('C0580836', 'old', 'tmco'), ('C0450355', '31', 'inpr')]]], '29': [[0.95, u'51-year-old smoker with hypertension and diabetes, in menopause, needs recommendations for preventing osteoporosis.'], [0.05, [('C0567312', 'menopause', 'fndg'), ('C0309872', 'prevent', 'phsu'), ('C0020538', 'hypertension', 'dsyn'), ('C0337664', 'smoker', 'fndg'), ('C0027552', 'need', 'qlco'), ('C0034866', 'recommendations', 'idcn'), ('C0011849', 'diabetes', 'dsyn'), ('C0029456', 'osteoporosis', 'dsyn'), ('C0580836', 'old', 'tmco'), ('C0439234', 'year', 'tmco')]]], '1': [[0.95, u'58-year-old woman with hypertension and obesity presents with exercise-related episodic chest pain radiating to the back.'], [0.05, [('C0205095', 'back', 'spco'), ('C1522704', 'exercise', 'topp'), ('C0043210', 'woman', 'popg'), ('C0020538', 'hypertension', 'dsyn'), ('C0439849', 'related', 'qlco'), ('C0439508', '/year', 'tmco'), ('C0232289', 'chest pain radiating', 'sosy'), ('C0150312', 'present', 'qnco'), ('C1963185', 'obesity', 'fndg'), ('C1455761', 'episodic', 'qlco'), ('C0580836', 'old', 'tmco')]]], '3': [[0.95, u' 58-year-old female non-smoker with left lung mass on x-ray. Head CT shows a solitary right frontal lobe mass.'], [0.05, [('C0746117', 'left lung mass', 'fndg'), ('C1962945', 'x-ray', 'diap'), ('C1281954', 'right frontal lobe', 'bpoc'), ('C0439508', '/year', 'tmco'), ('C0337672', 'non-smoker', 'fndg'), ('C0881943', 'head ct', 'clna'), ('C0086287', 'female', 'popg'), ('C1547282', 'show', 'inpr'), ('C0580836', 'old', 'tmco'), ('C1265601', 'solitary mass', 'anab')]]], '2': [[0.95, u'8-year-old boy with 2 days of loose stools, fever, and cough after returning from a trip to Colorado. Chest x-ray shows bilateral lung infiltrates.'], [0.05, [('C0015967', 'fever', 'fndg'), ('C0870221', 'boy', 'aggp'), ('C1961131', 'cough', 'fndg'), ('C0009399', 'colorado', 'geoa'), ('C0580836', 'old', 'tmco'), ('C2129214', 'loose stools', 'sosy'), ('C1114557', 'chest x-ray', 'clna'), ('C0235896', 'lung infiltrate', 'dsyn'), ('C0221188', 'trip', 'phpr'), ('C0332156', 'return', 'qlco'), ('C0556972', 'days year', 'tmco'), ('C0238767', 'bilateral', 'spco'), ('C1547282', 'show', 'inpr')]]], '5': [[0.95, u'56-year-old woman presents with shortness of breath 3 weeks after surgical mastectomy. Physical exam is significant for right calf tenderness and decreased breath sounds at the right base. Her D-dimer level is elevated.'], [0.05, [('C0238844', 'decreased breath sounds', 'fndg'), ('C1744699', 'physical exam', 'idcn'), ('C0043210', 'woman', 'popg'), ('C0439508', '/year', 'tmco'), ('C0543467', 'surgical', 'hlca'), ('C0238883', 'calf tenderness', 'sosy'), ('C0150312', 'present', 'qnco'), ('C0205250', 'elevated', 'qlco'), ('C0024886', 'mastectomy', 'topp'), ('C0234233', 'tenderness', 'sosy'), ('C0178499', 'base', 'chvf'), ('C0439230', 'weeks', 'tmco'), ('C2707305', 'shortness of breath', 'clna'), ('C0427602', 'd dimer level', 'lbtr'), ('C0750502', 'significant', 'idcn'), ('C0205090', 'right', 'spco'), ('C0580836', 'old', 'tmco'), ('C0489801', 'right calf', 'blor')]]], '4': [[0.95, u'2-year-old boy with fever and irritability for 5 days. Physical exam findings include conjunctivitis, strawberry tongue, and desquamation of the fingers and toes. Lab results include low albumin, elevated white blood cell count and C-reactive protein, and urine leukocytes. Echo shows moderate dilation of the coronary arteries.'], [0.05, [('C0439508', '/year', 'tmco'), ('C0009763', 'conjunctivitis', 'dsyn'), ('C0205250', 'elevated', 'qlco'), ('C3244125', 'lab results', 'inpr'), ('C1547282', 'show', 'inpr'), ('C0870221', 'boy', 'aggp'), ('C2700617', 'irritability', 'menp'), ('C0427512', 'white blood cell count', 'lbtr'), ('C0241262', 'strawberry tongue', 'dsyn'), ('C0555120', 'urine leukocytes', 'fndg'), ('C0860864', 'low albumin', 'fndg'), ('C0580836', 'old', 'tmco'), ('C0439228', 'days', 'tmco'), ('C2827735', '2+', 'qnco'), ('C0016129', 'fingers', 'blor'), ('C0205042', 'coronary arteries', 'bpoc'), ('C0015967', 'fever', 'fndg'), ('C0332257', 'include', 'ftcn'), ('C0944980', 'physical exam findings', 'clna'), ('C0237849', 'desquamation', 'fndg'), ('C0205081', 'moderate', 'qlco'), ('C0006560', 'c-reactive protein', 'aapp, imft'), ('C0040357', 'toes', 'bpoc'), ('C1655045', 'echo', 'euka'), ('C0700124', 'dilation', 'ftcn')]]], '7': [[0.95, u'26-year-old obese woman with bipolar disorder, on zolpidem and lithium, with recent difficulty sleeping, agitation, suicidal ideation, and irritability.'], [0.05, [('C0022107', 'irritability', 'fndg'), ('C0005586', 'bipolar disorder', 'mobd'), ('C0043210', 'woman', 'popg'), ('C0235162', 'difficulty sleeping', 'sosy'), ('C0439508', '/year', 'tmco'), ('C0085631', 'agitation', 'sosy'), ('C0580836', 'old', 'tmco'), ('C0424000', 'suicidal ideation', 'fndg'), ('C0023870', 'lithium', 'elii, phsu'), ('C0078839', 'zolpidem', 'orch, phsu'), ('C0028754', 'obese', 'dsyn'), ('C0332185', 'recent', 'tmco')]]], '6': [[0.95, u'64-year-old woman with uncontrolled diabetes, now with an oozing, painful skin lesion on her left lower leg.'], [0.05, [('C1948052', 'now', 'tmco'), ('C2089742', 'oozing skin lesion', 'fndg'), ('C0043210', 'woman', 'popg'), ('C0030193', 'painful', 'sosy'), ('C0230443', 'left lower leg', 'bpoc'), ('C0011849', 'diabetes', 'dsyn'), ('C0205318', 'uncontrolled', 'qlco'), ('C0580836', 'old', 'tmco'), ('C0439234', 'year', 'tmco')]]], '9': [[0.95, u'43-year-old woman with soft, flesh-colored, pedunculated lesions on her neck.'], [0.05, [('C0522507', 'colored', 'qlco'), ('C0439508', '/year', 'tmco'), ('C0043210', 'woman', 'popg'), ('C0027530', 'neck', 'blor'), ('C1335371', 'pedunculated lesion', 'fndg'), ('C0205358', 'soft', 'qlco'), ('C0580836', 'old', 'tmco')]]], '8': [[0.95, u'62-year-old man with progressive memory loss and involuntary leg movements. Brain MRI reveals cortical atrophy, and cortical biopsy shows vacuolar gray matter changes with reactive astrocytosis.'], [0.05, [('C1140621', 'leg', 'blor'), ('C0443172', 'change', 'qnco'), ('C0018220', 'gray matter', 'tisu'), ('C0580836', 'old', 'tmco'), ('C3550269', 'reactive astrocytosis', 'fndg'), ('C0439508', '/year', 'tmco'), ('C0042219', 'vacuolar', 'celc'), ('C0005558', 'biopsy', 'diap'), ('C0235946', 'cortical atrophy', 'dsyn'), ('C0751295', 'memory loss', 'sosy'), ('C0205329', 'progressive', 'ftcn'), ('C0427086', 'involuntary movements', 'sosy'), ('C0024554', 'man', 'orga'), ('C0443289', 'reveal', 'qlco'), ('C0007776', 'cortical', 'bpoc'), ('C0412675', 'brain mri', 'diap'), ('C1547282', 'show', 'inpr')]]], '11': [[0.95, u'40-year-old woman with severe right arm pain and hypotension. She has no history of trauma and right arm exam reveals no significant findings.'], [0.05, [('C0205082', 'severe', 'qlco'), ('C0043210', 'woman', 'popg'), ('C0332122', 'no history of', 'qlco'), ('C0439508', '/year', 'tmco'), ('C0439509', '/40', 'tmco'), ('C1268255', 'right arm', 'bpoc'), ('C0443289', 'reveal', 'qlco'), ('C0043250', 'trauma', 'inpo'), ('C0020649', 'hypotension', 'fndg'), ('C2607943', 'findings', 'ftcn'), ('C0582103', 'exam', 'hlca'), ('C0580836', 'old', 'tmco'), ('C0564821', 'right arm pain', 'sosy'), ('C0750502', 'significant', 'idcn')]]], '10': [[0.95, u'67-year-old woman status post cardiac catheterization via right femoral artery, now with a cool, pulseless right foot and right femoral bruit.'], [0.05, [('C1948052', 'now', 'tmco'), ('C0043210', 'woman', 'popg'), ('C1548792', 'cool', 'qlco'), ('C1281566', 'right femoral artery', 'bpoc'), ('C0439508', '/year', 'tmco'), ('C1280173', 'femoral artery', 'bpoc'), ('C0189896', 'right cardiac catheterisation', 'diap'), ('C0277899', 'pulseless', 'fndg'), ('C0558799', 'femoral bruit', 'fndg'), ('C0687676', 'status post', 'tmco'), ('C1279998', 'right foot', 'bpoc'), ('C0205090', 'right', 'spco'), ('C0580836', 'old', 'tmco'), ('C0018795', 'cardiac catheterization', 'diap, topp')]]], '13': [[0.95, u'30-year-old woman who is 3 weeks post-partum, presents with shortness of breath, tachypnea, and hypoxia.'], [0.05, [('C0043210', 'woman', 'popg'), ('C0439508', '/year', 'tmco'), ('C0150312', 'present', 'qnco'), ('C0231835', 'tachypnea', 'sosy'), ('C1963140', 'hypoxia', 'fndg'), ('C1442462', '3 weeks', 'tmco'), ('C2707305', 'shortness of breath', 'clna'), ('C0086839', 'postpartum', 'tmco'), ('C0580836', 'old', 'tmco')]]], '12': [[0.95, u'25-year-old woman with fatigue, hair loss, weight gain, and cold intolerance for 6 months.'], [0.05, [('C0043210', 'woman', 'popg'), ('C0009269', 'cold intolerance', 'sosy'), ('C0439508', '/year', 'tmco'), ('C0015672', 'fatigue', 'sosy'), ('C0043094', 'weight gain', 'fndg'), ('C0002170', 'hair loss', 'fndg'), ('C0439231', 'months', 'tmco'), ('C0580836', 'old', 'tmco')]]], '15': [[0.95, u'36-year-old woman with amenorrhea, abdominal tenderness, enlarged uterus, and cervical dilation. Urine pregnancy test is negative. Ultrasound reveals an enlarged uterus with multiple cystic areas, which could be consistent with vesicular mole and fibroid degeneration.'], [0.05, [('C0205160', 'negative', 'qlco'), ('C0205146', 'areas', 'spco'), ('C0439508', '/year', 'tmco'), ('C0332290', 'consistent with', 'idcn'), ('C0043210', 'woman', 'popg'), ('C0002453', 'amenorrhea', 'dsyn'), ('C0079103', 'cervical dilation', 'ortf'), ('C0232498', 'abdominal tenderness', 'sosy'), ('C0580836', 'old', 'tmco'), ('C0430056', 'urine pregnancy test', 'lbpr'), ('C0443289', 'reveal', 'qlco'), ('C1875843', 'ultrasound', 'medd'), ('C0023267', 'fibroid', 'neop'), ('C0151994', 'enlarged uterus', 'fndg'), ('C0678213', 'vesicular mole', 'neop'), ('C0442872', 'multiple cysts', 'acab'), ('C1880269', 'degeneration', 'ftcn')]]], '14': [[0.95, u'85-year-old man who was in a car accident 3 weeks ago, now with 3 days of progressively decreasing level of consciousness and impaired ability to perform activities of daily living.'], [0.05, [('C1579887', 'car accident', 'inpo'), ('C0001288', 'activities of daily living', 'dora'), ('C1948052', 'now', 'tmco'), ('C0439230', 'weeks', 'tmco'), ('C0234425', 'level of consciousness', 'fndg'), ('C0221099', 'impaired', 'ftcn'), ('C0442797', 'decreasing', 'qlco'), ('C0439508', '/year', 'tmco'), ('C0439228', 'days', 'tmco'), ('C0884358', 'perform', 'ftcn'), ('C0024554', 'man', 'orga'), ('C1421478', 'was', 'gngm'), ('C0580836', 'old', 'tmco'), ('C0085732', 'ability', 'orga')]]], '17': [[0.95, u'48-year-old man with common variable immunodeficiency presents with abdominal pain and fever. Ultrasound reveals hepatomegaly and free intraperitoneal fluid. A ruptured liver abscess is found and drained during exploratory laparotomy.'], [0.05, [('C0015967', 'fever', 'fndg'), ('C0085704', 'exploratory laparotomy', 'diap'), ('C0150312', 'found', 'qnco'), ('C0024554', 'man', 'orga'), ('C0333371', 'ruptured abscess', 'patf'), ('C0023884', 'liver', 'bpoc'), ('C0439508', '/year', 'tmco'), ('C0443294', 'ruptured', 'ftcn'), ('C0150312', 'present', 'qnco'), ('C0000737', 'abdominal pain', 'sosy'), ('C0009447', 'common variable immunodeficiency', 'dsyn'), ('C0341444', 'ruptured liver nos', 'inpo'), ('C0443289', 'reveal', 'qlco'), ('C1875843', 'ultrasound', 'medd'), ('C0013687', 'free fluid', 'patf'), ('C0019209', 'hepatomegaly', 'sosy'), ('C0000833', 'abscess', 'dsyn'), ('C0013103', 'drain', 'topp'), ('C0023885', 'liver abscess', 'dsyn'), ('C0580836', 'old', 'tmco'), ('C0442120', 'intraperitoneal', 'spco')]]], '16': [[0.95, u'28-year-old female with neck pain and left arm numbness 3 weeks after working with stray animals. Physical exam initially remarkable for slight left arm tremor and spasticity. Three days later she presented with significant arm spasticity, diaphoresis, agitation, difficulty swallowing, and hydrophobia.'], [0.05, [('C0205449', 'three', 'qnco'), ('C0439230', 'weeks', 'tmco'), ('C0449450', 'presented', 'idcn'), ('C0085631', 'agitation', 'sosy'), ('C0205265', 'initially', 'tmco'), ('C0439508', '/year', 'tmco'), ('C0026838', 'spasticity', 'sosy'), ('C0580836', 'old', 'tmco'), ('C0003062', 'animals', 'anim'), ('C0439228', 'days', 'tmco'), ('C0230347', 'left arm', 'bpoc'), ('C0011168', 'difficulty swallowing', 'dsyn'), ('C2937276', 'slight', 'qlco'), ('C1269612', 'arm', 'blor'), ('C0750502', 'significant', 'idcn'), ('C0038990', 'diaphoresis', 'fndg'), ('C0034494', 'hydrophobia', 'dsyn'), ('C0043227', 'working', 'ocac'), ('C1744699', 'physical exam', 'idcn'), ('C0028643', 'numbness', 'sosy'), ('C1963252', 'tremor', 'fndg'), ('C1963180', 'neck pain', 'fndg'), ('C0086287', 'female', 'popg')]]], '19': [[0.95, u'52-year-old man with history of smoking and heavy drinking, now with progressive dysphagia and 25-pound weight loss.'], [0.05, [('C1948052', 'now', 'tmco'), ('C1519384', 'smoking history', 'fndg'), ('C0439508', '/year', 'tmco'), ('C0043096', 'weightloss', 'fndg'), ('C0687132', 'heavy drinking', 'mobd'), ('C0439219', 'pound', 'qnco'), ('C0024554', 'man', 'orga'), ('C2911645', 'weight loss', 'fndg'), ('C0743319', 'dysphagia, progressive', 'dsyn'), ('C0580836', 'old', 'tmco')]]], '18': [[0.95, u'6-month-old male with decreased urine output and edema several hours after surgery. He is hypertensive and tachycardic, has a high BUN and creatinine, and urine microscopy reveals red blood cells and granular casts.'], [0.05, [('C0439227', 'hours', 'tmco'), ('C1706180', 'male', 'qlco'), ('C0439507', '/month', 'tmco'), ('C0430397', 'urine microscopy', 'lbpr'), ('C0013604', 'edema', 'patf'), ('C1277078', 'red blood cells', 'phsu'), ('C0039231', 'tachycardia', 'fndg'), ('C0857121', 'hypertensive', 'fndg'), ('C0443289', 'reveal', 'qlco'), ('C0010294', 'creatinine', 'bacs, orch'), ('C1299351', 'high', 'qlco'), ('C0028961', 'decreased urine output', 'sosy'), ('C0010837', 'granular', 'celc'), ('C0543467', 'surgery', 'hlca'), ('C0302143', 'cast', 'bdsu'), ('C0580836', 'old', 'tmco')]]], '30': [[0.95, u'72-year-old man with calf pain while walking uphill. History of ischemic heart disease and worsening hypertension despite medication compliance. On physical exam he has a right carotid bruit and his lower extremities are cool, with diminished dorsalis pedis pulses.'], [0.05, [('C0439508', '/year', 'tmco'), ('C0080331', 'walking', 'dora'), ('C0020538', 'hypertension', 'dsyn'), ('C0205090', 'right', 'spco'), ('C0018787', 'heart', 'bpoc'), ('C1321605', 'compliance', 'inbe'), ('C0683519', 'history of disease', 'fndg'), ('C2364172', 'medication compliance', 'fndg'), ('C1744699', 'physical exam', 'idcn'), ('C0236040', 'calf pain', 'sosy'), ('C1997492', 'dorsalis pedis pulses', 'clna'), ('C0024554', 'man', 'orga'), ('C0023216', 'lower extremities', 'blor'), ('C0007280', 'carotid bruit', 'fndg'), ('C0684167', 'hypertension medication', 'phsu'), ('C0205216', 'diminished', 'qnco'), ('C1548792', 'cool', 'qlco'), ('C0475224', 'ischaemic', 'ftcn'), ('C0580836', 'old', 'tmco'), ('C1457868', 'worsening', 'fndg')]]]}\n"
     ]
    }
   ],
   "source": [
    "print(\"combine different level of concepts\")\n",
    "qWeightsLayerConcepts = dict()\n",
    "for qNo, qText in origQueries.iteritems():\n",
    "    qWeightsLayerConcepts[qNo] = [[0.95, qText]]\n",
    "    origConcs = qidConcepts_d[qNo]\n",
    "    qWeightsLayerConcepts[qNo].append ([0.05, origConcs])\n",
    "print(qWeightsLayerConcepts)"
   ]
  },
  {
   "cell_type": "code",
   "execution_count": 139,
   "metadata": {
    "collapsed": false
   },
   "outputs": [
    {
     "data": {
      "text/plain": [
       "'\\n<goodSTYs>\\nClinical Drug\\nDisease or Syndrome\\nInjury or Poisoning\\nPharmacologic Substance\\nSign or Symptom\\nTherapeutic or Preventive Procedure\\n</goodSTYs>\\n'"
      ]
     },
     "execution_count": 139,
     "metadata": {},
     "output_type": "execute_result"
    }
   ],
   "source": [
    "def generateIndriQueries(queryfile, qWeightsLayersConcepts, indexDir, goodTui):\n",
    "    print(\"queryfile =\", queryfile)\n",
    "    regex = re.compile('[%s]' % re.escape(string.punctuation))\n",
    "    with open(queryfile, \"w\") as f:\n",
    "        f.write(\"<parameters>\\n<index>\" + indexDir + \"</index>\\n\")\n",
    "        for q, wLaysConcs in qWeightsLayersConcepts.iteritems():\n",
    "            f.write(\"<query>\\n\")\n",
    "            f.write(\"<number>\" + str(q) + \"</number>\\n\")\n",
    "            f.write(\"<text>\\n\")\n",
    "            f.write(\"\\t#weight(\\n\")\n",
    "            for i, wLayConcs in enumerate(wLaysConcs):\n",
    "                wLay = wLayConcs[0]\n",
    "                layConcs = wLayConcs[1]\n",
    "                if i == 0:\n",
    "                    layConcs = regex.sub(' ', layConcs)\n",
    "                    #layConcs = str(layConcs).translate(table, string.punctuation)\n",
    "                    f.write(\"\\t\\t\" + str(wLay) + \" #combine(\" + layConcs + \")\\n\" )\n",
    "                else:\n",
    "                    concs = []\n",
    "                    for concProps in layConcs:\n",
    "                        for concProp in concProps[2].split(','):\n",
    "                            if sty_d_abbr[concProp.strip()] in goodTui:\n",
    "                                concs.append(regex.sub(' ', concProps[1]))\n",
    "                    if len(concs) > 0:\n",
    "                        f.write(\"\\t\\t\" + str(wLay) + \" #weight(\\n\" )\n",
    "                        for conc in concs:\n",
    "                            #print(conc)\n",
    "                            #conc = concProps[1].translate(None, string.punctuation)\n",
    "                            f.write(\"\\t\\t\\t\" + str(1.0) + \" #weight(\\n\" )\n",
    "                            f.write(\"\\t\\t\\t\\t\" + str(0.8) + \" #combine(\" + conc + \")\\n\")\n",
    "                            f.write(\"\\t\\t\\t\\t\" + str(0.1) + \" #combine(\" )\n",
    "                            concStrs = conc.split()\n",
    "                            concStrs1 = [concStrs[ii] + \" \" + concStrs[ii+1] for ii in range(0, len(concStrs)-1)]\n",
    "                            if len(concStrs1) > 0:\n",
    "                                for concStr in concStrs1:\n",
    "                                    f.write(\"#od4(\" + concStr.strip() + \")\")\n",
    "                            else:\n",
    "                                f.write(conc)\n",
    "                            f.write(\")\\n\")\n",
    "                            f.write(\"\\t\\t\\t\\t\" + str(0.1) + \" #uw17(\" + conc + \")\\n\")\n",
    "                            f.write(\"\\t\\t\\t)\\n\" )\n",
    "                        f.write(\"\\t\\t)\\n\" )\n",
    "            f.write(\"\\t)\\n\")\n",
    "            f.write(\"</text>\\n\")\n",
    "            f.write(\"</query>\\n\")\n",
    "        f.write(\"<rule>method:two</rule>\\n\")\n",
    "        f.write(\"<count>1000</count>\\n\")\n",
    "        f.write(\"<threads>30</threads>\\n\")\n",
    "        f.write(\"<trecFormat>true</trecFormat>\\n\")\n",
    "        f.write(\"</parameters>\")\n",
    "\"\"\"\n",
    "<goodSTYs>\n",
    "Clinical Drug\n",
    "Disease or Syndrome\n",
    "Injury or Poisoning\n",
    "Pharmacologic Substance\n",
    "Sign or Symptom\n",
    "Therapeutic or Preventive Procedure\n",
    "</goodSTYs>\n",
    "\"\"\""
   ]
  },
  {
   "cell_type": "code",
   "execution_count": 140,
   "metadata": {
    "collapsed": false
   },
   "outputs": [
    {
     "name": "stdout",
     "output_type": "stream",
     "text": [
      "queryfile = /home/fj9124/projects/ir/seq_kb_ir/configs/cds14/indriRunQuery.cfg\n"
     ]
    }
   ],
   "source": [
    "generateIndriQueries(cds14Indriconfigs, qWeightsLayerConcepts, indexDir, goodTui)"
   ]
  },
  {
   "cell_type": "code",
   "execution_count": null,
   "metadata": {
    "collapsed": false
   },
   "outputs": [],
   "source": [
    "indriRunQueryRes = subprocess.check_output([\"IndriRunQuery\", queryfile])\n",
    "print(indriRunQueryRes)"
   ]
  },
  {
   "cell_type": "code",
   "execution_count": null,
   "metadata": {
    "collapsed": true
   },
   "outputs": [],
   "source": []
  }
 ],
 "metadata": {
  "kernelspec": {
   "display_name": "Python 2",
   "language": "python",
   "name": "python2"
  },
  "language_info": {
   "codemirror_mode": {
    "name": "ipython",
    "version": 2
   },
   "file_extension": ".py",
   "mimetype": "text/x-python",
   "name": "python",
   "nbconvert_exporter": "python",
   "pygments_lexer": "ipython2",
   "version": "2.7.10"
  }
 },
 "nbformat": 4,
 "nbformat_minor": 0
}
